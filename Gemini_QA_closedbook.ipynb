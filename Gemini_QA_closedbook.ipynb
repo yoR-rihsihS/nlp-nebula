{
 "cells": [
  {
   "cell_type": "code",
   "execution_count": 75,
   "id": "a9ca1cf5",
   "metadata": {},
   "outputs": [],
   "source": [
    "from copy import deepcopy\n",
    "import json\n",
    "from typing import List, Optional, Tuple, Type, TypeVar\n",
    "from tqdm import tqdm\n",
    "import time"
   ]
  },
  {
   "cell_type": "code",
   "execution_count": 76,
   "id": "bbc0d583",
   "metadata": {},
   "outputs": [],
   "source": [
    "import google.generativeai as genai\n",
    "genai.configure(api_key = \"\") # API Key is intentionally removed"
   ]
  },
  {
   "cell_type": "code",
   "execution_count": 77,
   "id": "aa2b13f8",
   "metadata": {},
   "outputs": [],
   "source": [
    "# Generation config\n",
    "config = {\"temperature\": 0.0, \"top_p\": 1}\n",
    "\n",
    "# Safety config\n",
    "safety = [\n",
    "    {\n",
    "        \"category\": \"HARM_CATEGORY_DANGEROUS\",\n",
    "        \"threshold\": \"BLOCK_NONE\",\n",
    "    },\n",
    "    {\n",
    "        \"category\": \"HARM_CATEGORY_HARASSMENT\",\n",
    "        \"threshold\": \"BLOCK_NONE\",\n",
    "    },\n",
    "    {\n",
    "        \"category\": \"HARM_CATEGORY_HATE_SPEECH\",\n",
    "        \"threshold\": \"BLOCK_NONE\",\n",
    "    },\n",
    "    {\n",
    "        \"category\": \"HARM_CATEGORY_SEXUALLY_EXPLICIT\",\n",
    "        \"threshold\": \"BLOCK_NONE\",\n",
    "    },\n",
    "    {\n",
    "        \"category\": \"HARM_CATEGORY_DANGEROUS_CONTENT\",\n",
    "        \"threshold\": \"BLOCK_NONE\",\n",
    "    },\n",
    "    {\n",
    "        \"category\": \"HARM_CATEGORY_SEXUAL\",\n",
    "        \"threshold\": \"BLOCK_NONE\",\n",
    "    },\n",
    "]"
   ]
  },
  {
   "cell_type": "code",
   "execution_count": 78,
   "id": "a858286f",
   "metadata": {},
   "outputs": [],
   "source": [
    "model_name = 'gemini-pro'\n",
    "model = genai.GenerativeModel('gemini-pro', safety_settings = safety, generation_config = config)\n",
    "# at the time of writing this code gemini-pro is same as gemini-1.0-pro"
   ]
  },
  {
   "cell_type": "code",
   "execution_count": 79,
   "id": "4b2c45c7",
   "metadata": {},
   "outputs": [],
   "source": [
    "def get_closedbook_qa_prompt(question: str):\n",
    "    with open(\"./prompting/closedbook_qa.prompt\") as f:\n",
    "        prompt_template = f.read().rstrip(\"\\n\")\n",
    "\n",
    "    return prompt_template.format(question=question)"
   ]
  },
  {
   "cell_type": "code",
   "execution_count": 80,
   "id": "dafa2a36",
   "metadata": {},
   "outputs": [],
   "source": [
    "def get_closedbook_responses(inp, out):\n",
    "    prompts = []\n",
    "    responses = []\n",
    "    correct_responses = []\n",
    "    \n",
    "    with open(inp) as fin:\n",
    "        for line in tqdm(fin):\n",
    "            input_example = json.loads(line)\n",
    "            \n",
    "            # Getting question and correct answer\n",
    "            question = input_example[\"question\"]\n",
    "            correct_answer = input_example[\"answers\"]\n",
    "            \n",
    "            qa_closedbook_prompt = get_closedbook_qa_prompt(question)\n",
    "            \n",
    "            prompts.append(qa_closedbook_prompt)\n",
    "            correct_responses.append(correct_answer)\n",
    "            \n",
    "            response = model.generate_content(qa_closedbook_prompt)\n",
    "            try:\n",
    "                res = response.text\n",
    "            except Exception as e:\n",
    "                res = \"Model refused to answer!\"\n",
    "                print(f'{type(e).__name__}: {e}')\n",
    "                print(qa_closedbook_prompt)\n",
    "                print(response.prompt_feedback)\n",
    "                \n",
    "            responses.append(res)\n",
    "            \n",
    "            time.sleep(0.5) # Google has set rate limit of 60 requests per minute\n",
    "             \n",
    "            \n",
    "    with open(out, \"w\") as f:\n",
    "        for prompt, response, correct_answer in zip(prompts, responses, correct_responses):\n",
    "            output = {}\n",
    "\n",
    "            output[\"model_prompt\"] = prompt\n",
    "            output[\"model_answer\"] = response\n",
    "            output[\"model\"] = model_name\n",
    "            output[\"correct_answer\"] = correct_answer\n",
    "\n",
    "            f.write(json.dumps(output) + \"\\n\")"
   ]
  },
  {
   "cell_type": "code",
   "execution_count": 81,
   "id": "f05cd1c3",
   "metadata": {},
   "outputs": [],
   "source": [
    "input_path = \"./qa_data/nq-open-oracle.json\"\n",
    "output_path = \"./responses/gemini_qa/gemini_closedbook_responses.jsonl\""
   ]
  },
  {
   "cell_type": "code",
   "execution_count": null,
   "id": "f0ddd66b",
   "metadata": {},
   "outputs": [],
   "source": [
    "get_closedbook_responses(input_path, output_path)"
   ]
  }
 ],
 "metadata": {
  "kernelspec": {
   "display_name": "Python 3 (ipykernel)",
   "language": "python",
   "name": "python3"
  },
  "language_info": {
   "codemirror_mode": {
    "name": "ipython",
    "version": 3
   },
   "file_extension": ".py",
   "mimetype": "text/x-python",
   "name": "python",
   "nbconvert_exporter": "python",
   "pygments_lexer": "ipython3",
   "version": "3.11.5"
  }
 },
 "nbformat": 4,
 "nbformat_minor": 5
}
