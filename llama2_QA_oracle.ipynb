{
 "cells": [
  {
   "cell_type": "code",
   "execution_count": 1,
   "metadata": {},
   "outputs": [],
   "source": [
    "from copy import deepcopy\n",
    "import json\n",
    "from typing import List, Optional, Tuple, Type, TypeVar\n",
    "from tqdm import tqdm\n",
    "import time\n",
    "from pydantic.dataclasses import dataclass"
   ]
  },
  {
   "cell_type": "code",
   "execution_count": 2,
   "metadata": {},
   "outputs": [],
   "source": [
    "model=\"llama2-70b\""
   ]
  },
  {
   "cell_type": "code",
   "execution_count": 3,
   "metadata": {},
   "outputs": [],
   "source": [
    "# get a token: https://replicate.com/account\n",
    "from getpass import getpass\n",
    "import os\n",
    "\n",
    "REPLICATE_API_TOKEN = getpass()\n",
    "os.environ[\"REPLICATE_API_TOKEN\"] = \"r8_IwYEZpurE3QujsWwrE2t7EaLw5cRqo81AjBOn\""
   ]
  },
  {
   "cell_type": "code",
   "execution_count": 4,
   "metadata": {},
   "outputs": [],
   "source": [
    "from groq import Groq\n",
    "client = Groq(\n",
    "    api_key=\"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\"\n",
    ")"
   ]
  },
  {
   "cell_type": "code",
   "execution_count": 6,
   "metadata": {},
   "outputs": [],
   "source": [
    "# The dataclass code is taken from the author's github repository.\n",
    "T = TypeVar(\"T\")\n",
    "\n",
    "@dataclass(frozen=True)\n",
    "class Document:\n",
    "    title: str\n",
    "    text: str\n",
    "    id: Optional[str] = None\n",
    "    score: Optional[float] = None\n",
    "    hasanswer: Optional[bool] = None\n",
    "    isgold: Optional[bool] = None\n",
    "    original_retrieval_index: Optional[int] = None\n",
    "\n",
    "    @classmethod\n",
    "    def from_dict(cls: Type[T], data: dict) -> T:\n",
    "        data = deepcopy(data)\n",
    "        if not data:\n",
    "            raise ValueError(\"Must provide data for creation of Document from dict.\")\n",
    "        id = data.pop(\"id\", None)\n",
    "        score = data.pop(\"score\", None)\n",
    "        # Convert score to float if it's provided.\n",
    "        if score is not None:\n",
    "            score = float(score)\n",
    "        return cls(**dict(data, id=id, score=score))"
   ]
  },
  {
   "cell_type": "code",
   "execution_count": 7,
   "metadata": {},
   "outputs": [],
   "source": [
    "def get_qa_prompt(question: str, documents: List[Document], query_aware_contextualization: bool):\n",
    "    if query_aware_contextualization:\n",
    "        prompt_path = \"./prompting/qa_with_query_aware_contextualization.prompt\"\n",
    "    else:\n",
    "        prompt_path = \"./prompting/qa.prompt\"\n",
    "\n",
    "    with open(prompt_path) as f:\n",
    "        prompt_template = f.read().rstrip(\"\\n\")\n",
    "\n",
    "    # Format the documents into strings\n",
    "    formatted_documents = []\n",
    "    for document_index, document in enumerate(documents):\n",
    "        formatted_documents.append(f\"Document [{document_index+1}](Title: {document.title}) {document.text}\")\n",
    "\n",
    "\n",
    "    return prompt_template.format(question=question, search_results=\"\\n\".join(formatted_documents))"
   ]
  },
  {
   "cell_type": "code",
   "execution_count": 8,
   "metadata": {},
   "outputs": [],
   "source": [
    "def get_oracle_responses(inp : str, out : str, query_aware_contextualization: bool):\n",
    "    prompts = []\n",
    "    responses = []\n",
    "    correct_responses = []\n",
    "\n",
    "    with open(inp) as fin:\n",
    "        for line in tqdm(fin):\n",
    "            input_example = json.loads(line)\n",
    "\n",
    "            # Getting question and correct answer\n",
    "            question = input_example[\"question\"]\n",
    "            correct_answer = input_example[\"answers\"]\n",
    "\n",
    "            documents = []\n",
    "            for ctx in deepcopy(input_example[\"ctxs\"]):\n",
    "                documents.append(Document.from_dict(ctx))\n",
    "\n",
    "            qa_prompt = get_qa_prompt(question, documents, query_aware_contextualization)\n",
    "\n",
    "            prompts.append(qa_prompt)\n",
    "            correct_responses.append(correct_answer)\n",
    "        \n",
    "\n",
    "            chat_completion = client.chat.completions.create(\n",
    "                messages=[\n",
    "                    {\n",
    "                        \"role\": \"user\",\n",
    "                        \"content\": qa_prompt,\n",
    "                    }\n",
    "                ],\n",
    "                model=\"llama2-70b-4096\",  \n",
    "            )\n",
    "            response = chat_completion.choices[0].message.content\n",
    "            responses.append(response)\n",
    "\n",
    "            time.sleep(3) \n",
    "\n",
    "\n",
    "    with open(out, \"w\") as f:\n",
    "        for prompt, response, correct_answer in zip(prompts, responses, correct_responses):\n",
    "            output = {}\n",
    "\n",
    "            output[\"model_prompt\"] = prompt\n",
    "            output[\"model_answer\"] = response\n",
    "            output[\"model\"] = model\n",
    "            output[\"correct_answer\"] = correct_answer\n",
    "\n",
    "            f.write(json.dumps(output) + \"\\n\")"
   ]
  },
  {
   "cell_type": "code",
   "execution_count": 76,
   "metadata": {},
   "outputs": [],
   "source": [
    "input_path = \"./qa_data/nq-open-oracle.json\"\n",
    "output_path = \"./responses/llama2_qa/llama2_oracle_responses.jsonl\""
   ]
  },
  {
   "cell_type": "code",
   "execution_count": 77,
   "metadata": {},
   "outputs": [
    {
     "name": "stderr",
     "output_type": "stream",
     "text": [
      "2655it [2:50:44,  3.86s/it]\n"
     ]
    }
   ],
   "source": [
    "get_oracle_responses(input_path, output_path, False)"
   ]
  },
  {
   "cell_type": "code",
   "execution_count": null,
   "metadata": {},
   "outputs": [],
   "source": [
    "input_path = \"./qa_data/nq-open-oracle.json\"\n",
    "output_path = \"./responses/llama2_qa/llama2_oracle_QAC_responses.jsonl\""
   ]
  },
  {
   "cell_type": "code",
   "execution_count": null,
   "metadata": {},
   "outputs": [],
   "source": [
    "get_oracle_responses(input_path, output_path, True)"
   ]
  }
 ],
 "metadata": {
  "kernelspec": {
   "display_name": "base",
   "language": "python",
   "name": "python3"
  },
  "language_info": {
   "codemirror_mode": {
    "name": "ipython",
    "version": 3
   },
   "file_extension": ".py",
   "mimetype": "text/x-python",
   "name": "python",
   "nbconvert_exporter": "python",
   "pygments_lexer": "ipython3",
   "version": "3.11.5"
  }
 },
 "nbformat": 4,
 "nbformat_minor": 2
}
