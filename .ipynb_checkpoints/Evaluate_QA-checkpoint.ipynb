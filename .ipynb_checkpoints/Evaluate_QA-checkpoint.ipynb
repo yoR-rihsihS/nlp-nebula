{
 "cells": [
  {
   "cell_type": "code",
   "execution_count": 1,
   "id": "6b46dad8",
   "metadata": {},
   "outputs": [],
   "source": [
    "import json\n",
    "import string\n",
    "import regex\n",
    "from typing import List"
   ]
  },
  {
   "cell_type": "code",
   "execution_count": 2,
   "id": "4131ee4c",
   "metadata": {},
   "outputs": [],
   "source": [
    "def normalize_answer(s: str) -> str:\n",
    "    \"\"\"Normalization from the SQuAD evaluation script.\n",
    "\n",
    "    See https://worksheets.codalab.org/rest/bundles/0x6b567e1cf2e041ec80d7098f031c5c9e/contents/blob/\n",
    "    \"\"\"\n",
    "    def remove_articles(text):\n",
    "        return regex.sub(r\"\\b(a|an|the)\\b\", \" \", text)\n",
    "\n",
    "    def white_space_fix(text):\n",
    "        return \" \".join(text.split())\n",
    "\n",
    "    def remove_punc(text):\n",
    "        exclude = set(string.punctuation)\n",
    "        return \"\".join(ch for ch in text if ch not in exclude)\n",
    "\n",
    "    def lower(text):\n",
    "        return text.lower()\n",
    "\n",
    "    return white_space_fix(remove_articles(remove_punc(lower(s))))\n",
    "\n",
    "\n",
    "def is_correct(prediction: str, ground_truths: List[str]) -> float:\n",
    "    normalized_prediction = normalize_answer(prediction)\n",
    "\n",
    "    for ground_truth in ground_truths:\n",
    "        normalized_ground_truth = normalize_answer(ground_truth)\n",
    "        if normalized_ground_truth.lower() in normalized_prediction.lower():\n",
    "            return 1.0\n",
    "    return 0.0"
   ]
  },
  {
   "cell_type": "code",
   "execution_count": 3,
   "id": "e8c8f7f3",
   "metadata": {},
   "outputs": [],
   "source": [
    "def evaluate_qa_responses(inp : str):\n",
    "    correct_count, total_count = 0, 0\n",
    "    with open(inp) as fin:\n",
    "        for line in fin:\n",
    "            input_res = json.loads(line)\n",
    "            total_count += 1\n",
    "            \n",
    "            correct_answers = input_res[\"correct_answer\"]\n",
    "            model_answer = input_res[\"model_answer\"]       \n",
    "            correct_count += is_correct(model_answer, correct_answers)\n",
    "            \n",
    "    return correct_count / total_count"
   ]
  },
  {
   "cell_type": "markdown",
   "id": "6b7ba8f6",
   "metadata": {},
   "source": [
    "## Gemini Pro"
   ]
  },
  {
   "cell_type": "code",
   "execution_count": 4,
   "id": "a76244e8",
   "metadata": {},
   "outputs": [
    {
     "name": "stdout",
     "output_type": "stream",
     "text": [
      "Accuracies for qa task closedbook =\n",
      "0.43615819209039547\n",
      "Accuracies for qa task oracle =\n",
      "0.7156308851224106\n",
      "Accuracies for qa task (QAC) oracle =\n",
      "0.7830508474576271\n"
     ]
    }
   ],
   "source": [
    "print(\"Accuracies for qa task closedbook =\")\n",
    "print(evaluate_qa_responses(\"./responses/gemini_qa/gemini_closedbook_responses.jsonl\"))\n",
    "print(\"Accuracies for qa task oracle =\")\n",
    "print(evaluate_qa_responses(\"./responses/gemini_qa/gemini_oracle_responses.jsonl\"))\n",
    "print(\"Accuracies for qa task (QAC) oracle =\")\n",
    "print(evaluate_qa_responses(\"./responses/gemini_qa/gemini_oracle_QAC_responses.jsonl\"))"
   ]
  },
  {
   "cell_type": "code",
   "execution_count": 5,
   "id": "c42a1077",
   "metadata": {},
   "outputs": [],
   "source": [
    "input_paths = [\"./responses/gemini_qa/gemini_10_doc_at_0_responses.jsonl\",\n",
    "               \"./responses/gemini_qa/gemini_10_doc_at_4_responses.jsonl\",\n",
    "               \"./responses/gemini_qa/gemini_10_doc_at_9_responses.jsonl\"]\n",
    "\n",
    "loc = [0, 4, 9]"
   ]
  },
  {
   "cell_type": "code",
   "execution_count": 6,
   "id": "a845e7d4",
   "metadata": {},
   "outputs": [
    {
     "name": "stdout",
     "output_type": "stream",
     "text": [
      "Accuracies for qa task with number of documents = 10 and -\n",
      "relevant document located at 0 is = 0.6263653483992467\n",
      "relevant document located at 4 is = 0.5721280602636535\n",
      "relevant document located at 9 is = 0.6598870056497175\n"
     ]
    }
   ],
   "source": [
    "print(\"Accuracies for qa task with number of documents = 10 and -\")\n",
    "for i in range(len(input_paths)):\n",
    "    print(\"relevant document located at\", loc[i], \"is =\", evaluate_qa_responses(input_paths[i]))"
   ]
  },
  {
   "cell_type": "code",
   "execution_count": 7,
   "id": "011af09e",
   "metadata": {},
   "outputs": [],
   "source": [
    "input_paths = [\"./responses/gemini_qa/gemini_10_doc_at_0_QAC_responses.jsonl\",\n",
    "               \"./responses/gemini_qa/gemini_10_doc_at_4_QAC_responses.jsonl\",\n",
    "               \"./responses/gemini_qa/gemini_10_doc_at_9_QAC_responses.jsonl\"]\n",
    "\n",
    "loc = [0, 4, 9]"
   ]
  },
  {
   "cell_type": "code",
   "execution_count": 8,
   "id": "2f9f494c",
   "metadata": {},
   "outputs": [
    {
     "name": "stdout",
     "output_type": "stream",
     "text": [
      "Accuracies for qa task (QAC) with number of documents = 10 and -\n",
      "relevant document located at 0 is = 0.6738229755178907\n",
      "relevant document located at 4 is = 0.6497175141242938\n",
      "relevant document located at 9 is = 0.6922787193973635\n"
     ]
    }
   ],
   "source": [
    "print(\"Accuracies for qa task (QAC) with number of documents = 10 and -\")\n",
    "for i in range(len(input_paths)):\n",
    "    print(\"relevant document located at\", loc[i], \"is =\", evaluate_qa_responses(input_paths[i]))"
   ]
  },
  {
   "cell_type": "code",
   "execution_count": 9,
   "id": "996e454b",
   "metadata": {},
   "outputs": [],
   "source": [
    "input_paths = [\"./responses/gemini_qa/gemini_20_doc_at_0_responses.jsonl\",\n",
    "               \"./responses/gemini_qa/gemini_20_doc_at_4_responses.jsonl\",\n",
    "               \"./responses/gemini_qa/gemini_20_doc_at_9_responses.jsonl\",\n",
    "               \"./responses/gemini_qa/gemini_20_doc_at_14_responses.jsonl\",\n",
    "               \"./responses/gemini_qa/gemini_20_doc_at_19_responses.jsonl\"]\n",
    "\n",
    "loc = [0, 4, 9, 14, 19]"
   ]
  },
  {
   "cell_type": "code",
   "execution_count": 10,
   "id": "eea71803",
   "metadata": {},
   "outputs": [
    {
     "name": "stdout",
     "output_type": "stream",
     "text": [
      "Accuracies for qa task with number of documents = 20 and -\n",
      "relevant document located at 0 is = 0.5856873822975518\n",
      "relevant document located at 4 is = 0.5318267419962335\n",
      "relevant document located at 9 is = 0.5480225988700564\n",
      "relevant document located at 14 is = 0.5555555555555556\n",
      "relevant document located at 19 is = 0.6444444444444445\n"
     ]
    }
   ],
   "source": [
    "print(\"Accuracies for qa task with number of documents = 20 and -\")\n",
    "for i in range(len(input_paths)):\n",
    "    print(\"relevant document located at\", loc[i], \"is =\", evaluate_qa_responses(input_paths[i]))"
   ]
  },
  {
   "cell_type": "code",
   "execution_count": 11,
   "id": "841fe247",
   "metadata": {},
   "outputs": [],
   "source": [
    "input_paths = [\"./responses/gemini_qa/gemini_20_doc_at_0_QAC_responses.jsonl\",\n",
    "               \"./responses/gemini_qa/gemini_20_doc_at_4_QAC_responses.jsonl\",\n",
    "               \"./responses/gemini_qa/gemini_20_doc_at_9_QAC_responses.jsonl\",\n",
    "               \"./responses/gemini_qa/gemini_20_doc_at_14_QAC_responses.jsonl\",\n",
    "               \"./responses/gemini_qa/gemini_20_doc_at_19_QAC_responses.jsonl\"]\n",
    "\n",
    "loc = [0, 4, 9, 14, 19]"
   ]
  },
  {
   "cell_type": "code",
   "execution_count": 12,
   "id": "6d88453a",
   "metadata": {},
   "outputs": [
    {
     "name": "stdout",
     "output_type": "stream",
     "text": [
      "Accuracies for qa task (QAC) with number of documents = 20 and -\n",
      "relevant document located at 0 is = 0.632768361581921\n",
      "relevant document located at 4 is = 0.599623352165725\n",
      "relevant document located at 9 is = 0.6203389830508474\n",
      "relevant document located at 14 is = 0.6222222222222222\n",
      "relevant document located at 19 is = 0.6734463276836158\n"
     ]
    }
   ],
   "source": [
    "print(\"Accuracies for qa task (QAC) with number of documents = 20 and -\")\n",
    "for i in range(len(input_paths)):\n",
    "    print(\"relevant document located at\", loc[i], \"is =\", evaluate_qa_responses(input_paths[i]))"
   ]
  },
  {
   "cell_type": "code",
   "execution_count": 13,
   "id": "c2bd131c",
   "metadata": {},
   "outputs": [],
   "source": [
    "input_paths = [\"./responses/gemini_qa/gemini_30_doc_at_0_responses.jsonl\",\n",
    "               \"./responses/gemini_qa/gemini_30_doc_at_4_responses.jsonl\",\n",
    "               \"./responses/gemini_qa/gemini_30_doc_at_9_responses.jsonl\",\n",
    "               \"./responses/gemini_qa/gemini_30_doc_at_14_responses.jsonl\",\n",
    "               \"./responses/gemini_qa/gemini_30_doc_at_19_responses.jsonl\",\n",
    "               \"./responses/gemini_qa/gemini_30_doc_at_24_responses.jsonl\",\n",
    "               \"./responses/gemini_qa/gemini_30_doc_at_29_responses.jsonl\"]\n",
    "\n",
    "loc = [0, 4, 9, 14, 19, 24, 29]"
   ]
  },
  {
   "cell_type": "code",
   "execution_count": 14,
   "id": "db19587a",
   "metadata": {},
   "outputs": [
    {
     "name": "stdout",
     "output_type": "stream",
     "text": [
      "Accuracies for qa task with number of documents = 30 and -\n",
      "relevant document located at 0 is = 0.5792843691148776\n",
      "relevant document located at 4 is = 0.4463276836158192\n",
      "relevant document located at 9 is = 0.45649717514124294\n",
      "relevant document located at 14 is = 0.4873822975517891\n",
      "relevant document located at 19 is = 0.5133709981167608\n",
      "relevant document located at 24 is = 0.5099811676082863\n",
      "relevant document located at 29 is = 0.6376647834274953\n"
     ]
    }
   ],
   "source": [
    "print(\"Accuracies for qa task with number of documents = 30 and -\")\n",
    "for i in range(len(input_paths)):\n",
    "    print(\"relevant document located at\", loc[i], \"is =\", evaluate_qa_responses(input_paths[i]))"
   ]
  },
  {
   "cell_type": "code",
   "execution_count": 15,
   "id": "564dc436",
   "metadata": {},
   "outputs": [],
   "source": [
    "input_paths = [\"./responses/gemini_qa/gemini_30_doc_at_0_QAC_responses.jsonl\",\n",
    "               \"./responses/gemini_qa/gemini_30_doc_at_4_QAC_responses.jsonl\",\n",
    "               \"./responses/gemini_qa/gemini_30_doc_at_9_QAC_responses.jsonl\",\n",
    "               \"./responses/gemini_qa/gemini_30_doc_at_14_QAC_responses.jsonl\",\n",
    "               \"./responses/gemini_qa/gemini_30_doc_at_19_QAC_responses.jsonl\",\n",
    "               \"./responses/gemini_qa/gemini_30_doc_at_24_QAC_responses.jsonl\",\n",
    "               \"./responses/gemini_qa/gemini_30_doc_at_29_QAC_responses.jsonl\"]\n",
    "\n",
    "loc = [0, 4, 9, 14, 19, 24, 29]"
   ]
  },
  {
   "cell_type": "code",
   "execution_count": 16,
   "id": "cb244f15",
   "metadata": {},
   "outputs": [
    {
     "name": "stdout",
     "output_type": "stream",
     "text": [
      "Accuracies for qa task (QAC) with number of documents = 30 and -\n",
      "relevant document located at 0 is = 0.6369114877589453\n",
      "relevant document located at 4 is = 0.5408662900188324\n",
      "relevant document located at 9 is = 0.543879472693032\n",
      "relevant document located at 14 is = 0.5698681732580038\n",
      "relevant document located at 19 is = 0.5947269303201507\n",
      "relevant document located at 24 is = 0.6015065913370998\n",
      "relevant document located at 29 is = 0.6696798493408663\n"
     ]
    }
   ],
   "source": [
    "print(\"Accuracies for qa task (QAC) with number of documents = 30 and -\")\n",
    "for i in range(len(input_paths)):\n",
    "    print(\"relevant document located at\", loc[i], \"is =\", evaluate_qa_responses(input_paths[i]))"
   ]
  },
  {
   "cell_type": "markdown",
   "id": "631efc27",
   "metadata": {},
   "source": [
    "## RWKV - Accuracy vs Size"
   ]
  },
  {
   "cell_type": "code",
   "execution_count": 17,
   "id": "1e4a95c2",
   "metadata": {},
   "outputs": [],
   "source": [
    "input_paths = [\n",
    "    \"./responses/rwkv_accuracy_vs_size/raven_3b_20_doc_at_0_responses.jsonl\",\n",
    "    \"./responses/rwkv_accuracy_vs_size/raven_3b_20_doc_at_4_responses.jsonl\",\n",
    "    \"./responses/rwkv_accuracy_vs_size/raven_3b_20_doc_at_9_responses.jsonl\",\n",
    "    \"./responses/rwkv_accuracy_vs_size/raven_3b_20_doc_at_14_responses.jsonl\",\n",
    "    \"./responses/rwkv_accuracy_vs_size/raven_3b_20_doc_at_19_responses.jsonl\",\n",
    "    \"./responses/rwkv_accuracy_vs_size/raven_7b_20_doc_at_0_responses.jsonl\",\n",
    "    \"./responses/rwkv_accuracy_vs_size/raven_7b_20_doc_at_4_responses.jsonl\",\n",
    "    \"./responses/rwkv_accuracy_vs_size/raven_7b_20_doc_at_9_responses.jsonl\",\n",
    "    \"./responses/rwkv_accuracy_vs_size/raven_7b_20_doc_at_14_responses.jsonl\",\n",
    "    \"./responses/rwkv_accuracy_vs_size/raven_7b_20_doc_at_19_responses.jsonl\",\n",
    "    \"./responses/rwkv_accuracy_vs_size/raven_14b_20_doc_at_0_responses.jsonl\",\n",
    "    \"./responses/rwkv_accuracy_vs_size/raven_14b_20_doc_at_4_responses.jsonl\",\n",
    "    \"./responses/rwkv_accuracy_vs_size/raven_14b_20_doc_at_9_responses.jsonl\",\n",
    "    \"./responses/rwkv_accuracy_vs_size/raven_14b_20_doc_at_14_responses.jsonl\",\n",
    "    \"./responses/rwkv_accuracy_vs_size/raven_14b_20_doc_at_19_responses.jsonl\",\n",
    "]"
   ]
  },
  {
   "cell_type": "code",
   "execution_count": 18,
   "id": "69496aef",
   "metadata": {},
   "outputs": [
    {
     "name": "stdout",
     "output_type": "stream",
     "text": [
      "Accuracy is = 0.19171374764595103\n",
      "Accuracy is = 0.1856873822975518\n",
      "Accuracy is = 0.1928436911487759\n",
      "Accuracy is = 0.22259887005649717\n",
      "Accuracy is = 0.4177024482109228\n",
      "Accuracy is = 0.23691148775894538\n",
      "Accuracy is = 0.24143126177024482\n",
      "Accuracy is = 0.24444444444444444\n",
      "Accuracy is = 0.271939736346516\n",
      "Accuracy is = 0.3951035781544256\n",
      "Accuracy is = 0.32354048964218457\n",
      "Accuracy is = 0.3103578154425612\n",
      "Accuracy is = 0.3009416195856874\n",
      "Accuracy is = 0.3152542372881356\n",
      "Accuracy is = 0.4335216572504708\n"
     ]
    }
   ],
   "source": [
    "for i in range(len(input_paths)):\n",
    "    print(\"Accuracy is =\", evaluate_qa_responses(input_paths[i]))"
   ]
  },
  {
   "cell_type": "markdown",
   "id": "8da5c839",
   "metadata": {},
   "source": [
    "## RWKV - Raven 14b QA Task Accuracy"
   ]
  },
  {
   "cell_type": "code",
   "execution_count": 19,
   "id": "ebad97af",
   "metadata": {},
   "outputs": [],
   "source": [
    "input_paths = [\n",
    "    \"raven_14b_closedbook_responses\",\n",
    "    \"raven_14b_oracle_responses\",\n",
    "    \"raven_14b_oracle_QAC_responses\",\n",
    "    \"raven_14b_10_doc_at_0_responses\",\n",
    "    \"raven_14b_10_doc_at_4_responses\",\n",
    "    \"raven_14b_10_doc_at_9_responses\",\n",
    "    \"raven_14b_10_doc_at_0_QAC_responses\",\n",
    "    \"raven_14b_10_doc_at_4_QAC_responses\",\n",
    "    \"raven_14b_10_doc_at_9_QAC_responses\",\n",
    "    \"raven_14b_20_doc_at_0_responses\",\n",
    "    \"raven_14b_20_doc_at_4_responses\",\n",
    "    \"raven_14b_20_doc_at_9_responses\",\n",
    "    \"raven_14b_20_doc_at_14_responses\",\n",
    "    \"raven_14b_20_doc_at_19_responses\",\n",
    "    \"raven_14b_20_doc_at_0_QAC_responses\",\n",
    "    \"raven_14b_20_doc_at_4_QAC_responses\",\n",
    "    \"raven_14b_20_doc_at_9_QAC_responses\",\n",
    "    \"raven_14b_20_doc_at_14_QAC_responses\",\n",
    "    \"raven_14b_20_doc_at_19_QAC_responses\",\n",
    "    \"raven_14b_30_doc_at_0_responses\",\n",
    "    \"raven_14b_30_doc_at_4_responses\",\n",
    "    \"raven_14b_30_doc_at_9_responses\",\n",
    "    \"raven_14b_30_doc_at_14_responses\",\n",
    "    \"raven_14b_30_doc_at_19_responses\",\n",
    "    \"raven_14b_30_doc_at_24_responses\",\n",
    "    \"raven_14b_30_doc_at_29_responses\",\n",
    "    \"raven_14b_30_doc_at_0_QAC_responses\",\n",
    "    \"raven_14b_30_doc_at_4_QAC_responses\",\n",
    "    \"raven_14b_30_doc_at_9_QAC_responses\",\n",
    "    \"raven_14b_30_doc_at_14_QAC_responses\",\n",
    "    \"raven_14b_30_doc_at_19_QAC_responses\",\n",
    "    \"raven_14b_30_doc_at_24_QAC_responses\",\n",
    "#     \"raven_14b_30_doc_at_29_QAC_responses\",\n",
    "]"
   ]
  },
  {
   "cell_type": "code",
   "execution_count": 20,
   "id": "52ec0e33",
   "metadata": {},
   "outputs": [
    {
     "name": "stdout",
     "output_type": "stream",
     "text": [
      "Accuracy for raven_14b_closedbook_responses is = 0.30772128060263654\n",
      "Accuracy for raven_14b_oracle_responses is = 0.8056497175141243\n",
      "Accuracy for raven_14b_oracle_QAC_responses is = 0.7619585687382298\n",
      "Accuracy for raven_14b_10_doc_at_0_responses is = 0.3845574387947269\n",
      "Accuracy for raven_14b_10_doc_at_4_responses is = 0.3495291902071563\n",
      "Accuracy for raven_14b_10_doc_at_9_responses is = 0.4384180790960452\n",
      "Accuracy for raven_14b_10_doc_at_0_QAC_responses is = 0.38342749529190207\n",
      "Accuracy for raven_14b_10_doc_at_4_QAC_responses is = 0.335969868173258\n",
      "Accuracy for raven_14b_10_doc_at_9_QAC_responses is = 0.40941619585687383\n",
      "Accuracy for raven_14b_20_doc_at_0_responses is = 0.32354048964218457\n",
      "Accuracy for raven_14b_20_doc_at_4_responses is = 0.3103578154425612\n",
      "Accuracy for raven_14b_20_doc_at_9_responses is = 0.3009416195856874\n",
      "Accuracy for raven_14b_20_doc_at_14_responses is = 0.3152542372881356\n",
      "Accuracy for raven_14b_20_doc_at_19_responses is = 0.4335216572504708\n",
      "Accuracy for raven_14b_20_doc_at_0_QAC_responses is = 0.32919020715630887\n",
      "Accuracy for raven_14b_20_doc_at_4_QAC_responses is = 0.3088512241054614\n",
      "Accuracy for raven_14b_20_doc_at_9_QAC_responses is = 0.3013182674199623\n",
      "Accuracy for raven_14b_20_doc_at_14_QAC_responses is = 0.3080979284369115\n",
      "Accuracy for raven_14b_20_doc_at_19_QAC_responses is = 0.3977401129943503\n",
      "Accuracy for raven_14b_30_doc_at_0_responses is = 0.3024482109227872\n",
      "Accuracy for raven_14b_30_doc_at_4_responses is = 0.29453860640301316\n",
      "Accuracy for raven_14b_30_doc_at_9_responses is = 0.2903954802259887\n",
      "Accuracy for raven_14b_30_doc_at_14_responses is = 0.2903954802259887\n",
      "Accuracy for raven_14b_30_doc_at_19_responses is = 0.2967984934086629\n",
      "Accuracy for raven_14b_30_doc_at_24_responses is = 0.30922787193973633\n",
      "Accuracy for raven_14b_30_doc_at_29_responses is = 0.46214689265536724\n",
      "Accuracy for raven_14b_30_doc_at_0_QAC_responses is = 0.29642184557438794\n",
      "Accuracy for raven_14b_30_doc_at_4_QAC_responses is = 0.28888888888888886\n",
      "Accuracy for raven_14b_30_doc_at_9_QAC_responses is = 0.28173258003766477\n",
      "Accuracy for raven_14b_30_doc_at_14_QAC_responses is = 0.2768361581920904\n",
      "Accuracy for raven_14b_30_doc_at_19_QAC_responses is = 0.280225988700565\n",
      "Accuracy for raven_14b_30_doc_at_24_QAC_responses is = 0.29265536723163843\n"
     ]
    }
   ],
   "source": [
    "for i in range(len(input_paths)):\n",
    "    print(\"Accuracy for\", input_paths[i], \"is =\", evaluate_qa_responses(\"./responses/rwkv_raven_14b_qa/\"+input_paths[i]+\".jsonl\"))"
   ]
  },
  {
   "cell_type": "code",
   "execution_count": null,
   "id": "160ec23a",
   "metadata": {},
   "outputs": [],
   "source": []
  },
  {
   "cell_type": "code",
   "execution_count": null,
   "id": "52a2168b",
   "metadata": {},
   "outputs": [],
   "source": []
  },
  {
   "cell_type": "code",
   "execution_count": null,
   "id": "2ccb7cd3",
   "metadata": {},
   "outputs": [],
   "source": []
  },
  {
   "cell_type": "code",
   "execution_count": null,
   "id": "9899c704",
   "metadata": {},
   "outputs": [],
   "source": []
  },
  {
   "cell_type": "code",
   "execution_count": null,
   "id": "ea8184ca",
   "metadata": {},
   "outputs": [],
   "source": []
  },
  {
   "cell_type": "code",
   "execution_count": null,
   "id": "d6b7d93c",
   "metadata": {},
   "outputs": [],
   "source": []
  }
 ],
 "metadata": {
  "kernelspec": {
   "display_name": "Python 3 (ipykernel)",
   "language": "python",
   "name": "python3"
  },
  "language_info": {
   "codemirror_mode": {
    "name": "ipython",
    "version": 3
   },
   "file_extension": ".py",
   "mimetype": "text/x-python",
   "name": "python",
   "nbconvert_exporter": "python",
   "pygments_lexer": "ipython3",
   "version": "3.11.5"
  }
 },
 "nbformat": 4,
 "nbformat_minor": 5
}
