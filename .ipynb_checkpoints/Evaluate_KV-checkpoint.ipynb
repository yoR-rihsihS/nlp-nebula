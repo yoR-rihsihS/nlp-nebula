{
 "cells": [
  {
   "cell_type": "code",
   "execution_count": 15,
   "id": "1ef45bd0",
   "metadata": {},
   "outputs": [],
   "source": [
    "import json\n",
    "from tqdm import tqdm"
   ]
  },
  {
   "cell_type": "code",
   "execution_count": 16,
   "id": "5757e71e",
   "metadata": {},
   "outputs": [],
   "source": [
    "def evaluate_kv_responses(inp : str):\n",
    "    correct_count, total_count = 0, 0\n",
    "    with open(inp) as fin:\n",
    "        for line in fin:\n",
    "            input_res = json.loads(line)\n",
    "            \n",
    "            total_count += 1\n",
    "            model = input_res[\"model_answer\"].lower().replace(\"\\\"\", \"\")\n",
    "            correct = input_res[\"correct_answer\"].lower()\n",
    "            \n",
    "            if correct in model:\n",
    "                correct_count += 1\n",
    "            \n",
    "    return correct_count / total_count"
   ]
  },
  {
   "cell_type": "code",
   "execution_count": 17,
   "id": "90aea41d",
   "metadata": {},
   "outputs": [],
   "source": [
    "input_paths = [\n",
    "    \"./responses/gemini_kv/gemini_kv_75_key_at_0_responses.jsonl\",\n",
    "    \"./responses/gemini_kv/gemini_kv_75_key_at_24_responses.jsonl\",\n",
    "    \"./responses/gemini_kv/gemini_kv_75_key_at_49_responses.jsonl\",\n",
    "    \"./responses/gemini_kv/gemini_kv_75_key_at_74_responses.jsonl\"]\n",
    "\n",
    "loc = [0, 24, 49, 74]"
   ]
  },
  {
   "cell_type": "code",
   "execution_count": 18,
   "id": "c2ce339f",
   "metadata": {},
   "outputs": [
    {
     "name": "stdout",
     "output_type": "stream",
     "text": [
      "Accuracies for kv task with number of keys = 75 and -\n",
      "key located at 0 is = 1.0\n",
      "key located at 24 is = 0.998\n",
      "key located at 49 is = 1.0\n",
      "key located at 74 is = 1.0\n"
     ]
    }
   ],
   "source": [
    "print(\"Accuracies for kv task with number of keys = 75 and -\")\n",
    "for i in range(len(input_paths)):\n",
    "    print(\"key located at\", loc[i], \"is =\", evaluate_kv_responses(input_paths[i]))"
   ]
  },
  {
   "cell_type": "code",
   "execution_count": 19,
   "id": "0660abad",
   "metadata": {},
   "outputs": [],
   "source": [
    "input_paths = [\n",
    "    \"./responses/gemini_kv/gemini_kv_QAC_75_key_at_0_responses.jsonl\",\n",
    "    \"./responses/gemini_kv/gemini_kv_QAC_75_key_at_24_responses.jsonl\",\n",
    "    \"./responses/gemini_kv/gemini_kv_QAC_75_key_at_49_responses.jsonl\",\n",
    "    \"./responses/gemini_kv/gemini_kv_QAC_75_key_at_74_responses.jsonl\"]\n",
    "\n",
    "loc = loc = [0, 24, 49, 74]"
   ]
  },
  {
   "cell_type": "code",
   "execution_count": 20,
   "id": "1083686a",
   "metadata": {},
   "outputs": [
    {
     "name": "stdout",
     "output_type": "stream",
     "text": [
      "Accuracies for kv task (QAC) with number of keys = 75 and -\n",
      "key located at 0 is = 1.0\n",
      "key located at 24 is = 1.0\n",
      "key located at 49 is = 1.0\n",
      "key located at 74 is = 1.0\n"
     ]
    }
   ],
   "source": [
    "print(\"Accuracies for kv task (QAC) with number of keys = 75 and -\")\n",
    "for i in range(len(input_paths)):\n",
    "    print(\"key located at\", loc[i], \"is =\", evaluate_kv_responses(input_paths[i]))"
   ]
  },
  {
   "cell_type": "code",
   "execution_count": 21,
   "id": "b9eccfea",
   "metadata": {},
   "outputs": [],
   "source": [
    "input_paths = [\n",
    "    \"./responses/gemini_kv/gemini_kv_140_key_at_0_responses.jsonl\",\n",
    "    \"./responses/gemini_kv/gemini_kv_140_key_at_34_responses.jsonl\",\n",
    "    \"./responses/gemini_kv/gemini_kv_140_key_at_69_responses.jsonl\",\n",
    "    \"./responses/gemini_kv/gemini_kv_140_key_at_104_responses.jsonl\",\n",
    "    \"./responses/gemini_kv/gemini_kv_140_key_at_139_responses.jsonl\"]\n",
    "\n",
    "loc = [0, 34, 69, 104, 169]"
   ]
  },
  {
   "cell_type": "code",
   "execution_count": 22,
   "id": "5d231012",
   "metadata": {},
   "outputs": [
    {
     "name": "stdout",
     "output_type": "stream",
     "text": [
      "Accuracies for kv task with number of keys = 140 and -\n",
      "key located at 0 is = 1.0\n",
      "key located at 34 is = 0.994\n",
      "key located at 69 is = 1.0\n",
      "key located at 104 is = 1.0\n",
      "key located at 169 is = 1.0\n"
     ]
    }
   ],
   "source": [
    "print(\"Accuracies for kv task with number of keys = 140 and -\")\n",
    "for i in range(len(input_paths)):\n",
    "    print(\"key located at\", loc[i], \"is =\", evaluate_kv_responses(input_paths[i]))"
   ]
  },
  {
   "cell_type": "code",
   "execution_count": 23,
   "id": "97483da7",
   "metadata": {},
   "outputs": [],
   "source": [
    "input_paths = [\n",
    "    \"./responses/gemini_kv/gemini_kv_QAC_140_key_at_0_responses.jsonl\",\n",
    "    \"./responses/gemini_kv/gemini_kv_QAC_140_key_at_34_responses.jsonl\",\n",
    "    \"./responses/gemini_kv/gemini_kv_QAC_140_key_at_69_responses.jsonl\",\n",
    "    \"./responses/gemini_kv/gemini_kv_QAC_140_key_at_104_responses.jsonl\",\n",
    "    \"./responses/gemini_kv/gemini_kv_QAC_140_key_at_139_responses.jsonl\"]\n",
    "\n",
    "loc = [0, 34, 69, 104, 169]"
   ]
  },
  {
   "cell_type": "code",
   "execution_count": 24,
   "id": "2ebb405d",
   "metadata": {},
   "outputs": [
    {
     "name": "stdout",
     "output_type": "stream",
     "text": [
      "Accuracies for kv task (QAC) with number of keys = 140 and -\n",
      "key located at 0 is = 0.998\n",
      "key located at 34 is = 1.0\n",
      "key located at 69 is = 1.0\n",
      "key located at 104 is = 1.0\n",
      "key located at 169 is = 1.0\n"
     ]
    }
   ],
   "source": [
    "print(\"Accuracies for kv task (QAC) with number of keys = 140 and -\")\n",
    "for i in range(len(input_paths)):\n",
    "    print(\"key located at\", loc[i], \"is =\", evaluate_kv_responses(input_paths[i]))"
   ]
  },
  {
   "cell_type": "code",
   "execution_count": 25,
   "id": "f16c2260",
   "metadata": {},
   "outputs": [],
   "source": [
    "input_paths = [\n",
    "    \"./responses/gemini_kv/gemini_kv_300_key_at_0_responses.jsonl\",\n",
    "    \"./responses/gemini_kv/gemini_kv_300_key_at_49_responses.jsonl\",\n",
    "    \"./responses/gemini_kv/gemini_kv_300_key_at_99_responses.jsonl\",\n",
    "    \"./responses/gemini_kv/gemini_kv_300_key_at_149_responses.jsonl\",\n",
    "    \"./responses/gemini_kv/gemini_kv_300_key_at_199_responses.jsonl\",\n",
    "    \"./responses/gemini_kv/gemini_kv_300_key_at_249_responses.jsonl\",\n",
    "    \"./responses/gemini_kv/gemini_kv_300_key_at_299_responses.jsonl\"]\n",
    "\n",
    "loc = [0, 49, 99, 149, 199, 249, 299]"
   ]
  },
  {
   "cell_type": "code",
   "execution_count": 26,
   "id": "558237c0",
   "metadata": {},
   "outputs": [
    {
     "name": "stdout",
     "output_type": "stream",
     "text": [
      "Accuracies for kv task with number of keys = 300 and -\n",
      "key located at 0 is = 0.954\n",
      "key located at 49 is = 0.9\n",
      "key located at 99 is = 0.956\n",
      "key located at 149 is = 0.87\n",
      "key located at 199 is = 0.982\n",
      "key located at 249 is = 0.986\n",
      "key located at 299 is = 1.0\n"
     ]
    }
   ],
   "source": [
    "print(\"Accuracies for kv task with number of keys = 300 and -\")\n",
    "for i in range(len(input_paths)):\n",
    "    print(\"key located at\", loc[i], \"is =\", evaluate_kv_responses(input_paths[i]))"
   ]
  },
  {
   "cell_type": "code",
   "execution_count": 27,
   "id": "5710d929",
   "metadata": {},
   "outputs": [],
   "source": [
    "input_paths = [\n",
    "    \"./responses/gemini_kv/gemini_kv_QAC_300_key_at_0_responses.jsonl\",\n",
    "    \"./responses/gemini_kv/gemini_kv_QAC_300_key_at_49_responses.jsonl\",\n",
    "    \"./responses/gemini_kv/gemini_kv_QAC_300_key_at_99_responses.jsonl\",\n",
    "    \"./responses/gemini_kv/gemini_kv_QAC_300_key_at_149_responses.jsonl\",\n",
    "    \"./responses/gemini_kv/gemini_kv_QAC_300_key_at_199_responses.jsonl\",\n",
    "    \"./responses/gemini_kv/gemini_kv_QAC_300_key_at_249_responses.jsonl\",\n",
    "    \"./responses/gemini_kv/gemini_kv_QAC_300_key_at_299_responses.jsonl\"]\n",
    "\n",
    "loc = [0, 49, 99, 149, 199, 249, 299]"
   ]
  },
  {
   "cell_type": "code",
   "execution_count": 28,
   "id": "ba40c27a",
   "metadata": {},
   "outputs": [
    {
     "name": "stdout",
     "output_type": "stream",
     "text": [
      "Accuracies for kv task (QAC) with number of keys = 300 and -\n",
      "key located at 0 is = 0.972\n",
      "key located at 49 is = 1.0\n",
      "key located at 99 is = 1.0\n",
      "key located at 149 is = 1.0\n",
      "key located at 199 is = 1.0\n",
      "key located at 249 is = 0.998\n",
      "key located at 299 is = 1.0\n"
     ]
    }
   ],
   "source": [
    "print(\"Accuracies for kv task (QAC) with number of keys = 300 and -\")\n",
    "for i in range(len(input_paths)):\n",
    "    print(\"key located at\", loc[i], \"is =\", evaluate_kv_responses(input_paths[i]))"
   ]
  },
  {
   "cell_type": "code",
   "execution_count": null,
   "id": "260270c9",
   "metadata": {},
   "outputs": [],
   "source": []
  },
  {
   "cell_type": "code",
   "execution_count": null,
   "id": "4dd53ecd",
   "metadata": {},
   "outputs": [],
   "source": []
  },
  {
   "cell_type": "code",
   "execution_count": null,
   "id": "d32e4061",
   "metadata": {},
   "outputs": [],
   "source": []
  },
  {
   "cell_type": "code",
   "execution_count": null,
   "id": "9feee697",
   "metadata": {},
   "outputs": [],
   "source": []
  }
 ],
 "metadata": {
  "kernelspec": {
   "display_name": "Python 3 (ipykernel)",
   "language": "python",
   "name": "python3"
  },
  "language_info": {
   "codemirror_mode": {
    "name": "ipython",
    "version": 3
   },
   "file_extension": ".py",
   "mimetype": "text/x-python",
   "name": "python",
   "nbconvert_exporter": "python",
   "pygments_lexer": "ipython3",
   "version": "3.11.5"
  }
 },
 "nbformat": 4,
 "nbformat_minor": 5
}
