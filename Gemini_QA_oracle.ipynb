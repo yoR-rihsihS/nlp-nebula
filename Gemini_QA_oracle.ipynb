{
 "cells": [
  {
   "cell_type": "code",
   "execution_count": 120,
   "id": "2a5ce577",
   "metadata": {},
   "outputs": [],
   "source": [
    "from copy import deepcopy\n",
    "import json\n",
    "from typing import List, Optional, Tuple, Type, TypeVar\n",
    "from tqdm import tqdm\n",
    "import time\n",
    "from pydantic.dataclasses import dataclass"
   ]
  },
  {
   "cell_type": "code",
   "execution_count": 121,
   "id": "75f7f778",
   "metadata": {},
   "outputs": [],
   "source": [
    "import google.generativeai as genai\n",
    "genai.configure(api_key = \"\") # API Key is intentionally removed"
   ]
  },
  {
   "cell_type": "code",
   "execution_count": 122,
   "id": "9bb0c23b",
   "metadata": {},
   "outputs": [],
   "source": [
    "# Generation config\n",
    "config = {\"temperature\": 0.0, \"top_p\": 1}\n",
    "\n",
    "# Safety config\n",
    "safety = [\n",
    "    {\n",
    "        \"category\": \"HARM_CATEGORY_DANGEROUS\",\n",
    "        \"threshold\": \"BLOCK_NONE\",\n",
    "    },\n",
    "    {\n",
    "        \"category\": \"HARM_CATEGORY_HARASSMENT\",\n",
    "        \"threshold\": \"BLOCK_NONE\",\n",
    "    },\n",
    "    {\n",
    "        \"category\": \"HARM_CATEGORY_HATE_SPEECH\",\n",
    "        \"threshold\": \"BLOCK_NONE\",\n",
    "    },\n",
    "    {\n",
    "        \"category\": \"HARM_CATEGORY_SEXUALLY_EXPLICIT\",\n",
    "        \"threshold\": \"BLOCK_NONE\",\n",
    "    },\n",
    "    {\n",
    "        \"category\": \"HARM_CATEGORY_DANGEROUS_CONTENT\",\n",
    "        \"threshold\": \"BLOCK_NONE\",\n",
    "    },\n",
    "    {\n",
    "        \"category\": \"HARM_CATEGORY_SEXUAL\",\n",
    "        \"threshold\": \"BLOCK_NONE\",\n",
    "    },\n",
    "]"
   ]
  },
  {
   "cell_type": "code",
   "execution_count": 123,
   "id": "34ab2855",
   "metadata": {},
   "outputs": [],
   "source": [
    "model_name = 'gemini-pro'\n",
    "model = genai.GenerativeModel('gemini-pro', safety_settings = safety, generation_config = config)"
   ]
  },
  {
   "cell_type": "code",
   "execution_count": 124,
   "id": "9d94b50c",
   "metadata": {},
   "outputs": [],
   "source": [
    "# The dataclass code is taken from the author's github repository.\n",
    "T = TypeVar(\"T\")\n",
    "\n",
    "@dataclass(frozen=True)\n",
    "class Document:\n",
    "    title: str\n",
    "    text: str\n",
    "    id: Optional[str] = None\n",
    "    score: Optional[float] = None\n",
    "    hasanswer: Optional[bool] = None\n",
    "    isgold: Optional[bool] = None\n",
    "    original_retrieval_index: Optional[int] = None\n",
    "\n",
    "    @classmethod\n",
    "    def from_dict(cls: Type[T], data: dict) -> T:\n",
    "        data = deepcopy(data)\n",
    "        if not data:\n",
    "            raise ValueError(\"Must provide data for creation of Document from dict.\")\n",
    "        id = data.pop(\"id\", None)\n",
    "        score = data.pop(\"score\", None)\n",
    "        # Convert score to float if it's provided.\n",
    "        if score is not None:\n",
    "            score = float(score)\n",
    "        return cls(**dict(data, id=id, score=score))"
   ]
  },
  {
   "cell_type": "code",
   "execution_count": 125,
   "id": "e8586c0b",
   "metadata": {},
   "outputs": [],
   "source": [
    "def get_qa_prompt(question: str, documents: List[Document], query_aware_contextualization: bool):\n",
    "    if query_aware_contextualization:\n",
    "        prompt_path = \"./prompting/qa_with_query_aware_contextualization.prompt\"\n",
    "    else:\n",
    "        prompt_path = \"./prompting/qa.prompt\"\n",
    "        \n",
    "    with open(prompt_path) as f:\n",
    "        prompt_template = f.read().rstrip(\"\\n\")\n",
    "\n",
    "    # Format the documents into strings\n",
    "    formatted_documents = []\n",
    "    for document_index, document in enumerate(documents):\n",
    "        formatted_documents.append(f\"Document [{document_index+1}](Title: {document.title}) {document.text}\")\n",
    "        \n",
    "    \n",
    "    return prompt_template.format(question=question, search_results=\"\\n\".join(formatted_documents))"
   ]
  },
  {
   "cell_type": "code",
   "execution_count": 126,
   "id": "60e67343",
   "metadata": {},
   "outputs": [],
   "source": [
    "def get_oracle_responses(inp : str, out : str, query_aware_contextualization: bool):\n",
    "    prompts = []\n",
    "    responses = []\n",
    "    correct_responses = []\n",
    "    \n",
    "    with open(inp) as fin:\n",
    "        for line in tqdm(fin):\n",
    "            input_example = json.loads(line)\n",
    "            \n",
    "            # Getting question and correct answer\n",
    "            question = input_example[\"question\"]\n",
    "            correct_answer = input_example[\"answers\"]\n",
    "            \n",
    "            documents = []\n",
    "            for ctx in deepcopy(input_example[\"ctxs\"]):\n",
    "                documents.append(Document.from_dict(ctx))\n",
    "            \n",
    "            qa_prompt = get_qa_prompt(question, documents, query_aware_contextualization)\n",
    "            \n",
    "            prompts.append(qa_prompt)\n",
    "            correct_responses.append(correct_answer)\n",
    "            \n",
    "            response = model.generate_content(qa_prompt)\n",
    "            try:\n",
    "                res = response.text\n",
    "            except Exception as e:\n",
    "                res = \"Model refused to answer!\"\n",
    "                print(f'{type(e).__name__}: {e}')\n",
    "                print(qa_prompt)\n",
    "                print(response.prompt_feedback)\n",
    "                \n",
    "            responses.append(res)\n",
    "            \n",
    "            time.sleep(1) # Google has set rate limit of 60 requests per minute\n",
    "             \n",
    "            \n",
    "    with open(out, \"w\") as f:\n",
    "        for prompt, response, correct_answer in zip(prompts, responses, correct_responses):\n",
    "            output = {}\n",
    "\n",
    "            output[\"model_prompt\"] = prompt\n",
    "            output[\"model_answer\"] = response\n",
    "            output[\"model\"] = model_name\n",
    "            output[\"correct_answer\"] = correct_answer\n",
    "\n",
    "            f.write(json.dumps(output) + \"\\n\")"
   ]
  },
  {
   "cell_type": "code",
   "execution_count": 127,
   "id": "73c90f38",
   "metadata": {},
   "outputs": [],
   "source": [
    "input_path = \"./qa_data/nq-open-oracle.json\"\n",
    "output_path = \"./responses/gemini_qa/gemini_oracle_responses.jsonl\""
   ]
  },
  {
   "cell_type": "code",
   "execution_count": 128,
   "id": "85470a46",
   "metadata": {},
   "outputs": [],
   "source": [
    "get_oracle_responses(input_path, output_path, False)"
   ]
  },
  {
   "cell_type": "code",
   "execution_count": 129,
   "id": "c44ece9f",
   "metadata": {},
   "outputs": [],
   "source": [
    "input_path = \"./qa_data/nq-open-oracle.json\"\n",
    "output_path = \"./responses/gemini_qa/gemini_oracle_QAC_responses.jsonl\""
   ]
  },
  {
   "cell_type": "code",
   "execution_count": null,
   "id": "1c524859",
   "metadata": {},
   "outputs": [],
   "source": [
    "get_oracle_responses(input_path, output_path, True)"
   ]
  }
 ],
 "metadata": {
  "kernelspec": {
   "display_name": "Python 3 (ipykernel)",
   "language": "python",
   "name": "python3"
  },
  "language_info": {
   "codemirror_mode": {
    "name": "ipython",
    "version": 3
   },
   "file_extension": ".py",
   "mimetype": "text/x-python",
   "name": "python",
   "nbconvert_exporter": "python",
   "pygments_lexer": "ipython3",
   "version": "3.11.5"
  }
 },
 "nbformat": 4,
 "nbformat_minor": 5
}
