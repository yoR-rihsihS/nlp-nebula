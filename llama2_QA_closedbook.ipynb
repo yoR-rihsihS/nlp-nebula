{
 "cells": [
  {
   "cell_type": "code",
   "execution_count": 11,
   "metadata": {},
   "outputs": [],
   "source": [
    "from copy import deepcopy\n",
    "import json\n",
    "from typing import List, Optional, Tuple, Type, TypeVar\n",
    "from tqdm import tqdm\n",
    "import time\n",
    "from pydantic.dataclasses import dataclass"
   ]
  },
  {
   "cell_type": "code",
   "execution_count": 12,
   "metadata": {},
   "outputs": [],
   "source": [
    "model=\"llama2-70b\""
   ]
  },
  {
   "cell_type": "code",
   "execution_count": 13,
   "metadata": {},
   "outputs": [],
   "source": [
    "# get a token: https://replicate.com/account\n",
    "from getpass import getpass\n",
    "import os\n",
    "\n",
    "REPLICATE_API_TOKEN = getpass()\n",
    "os.environ[\"REPLICATE_API_TOKEN\"] = \"r8_IwYEZpurE3QujsWwrE2t7EaLw5cRqo81AjBOn\""
   ]
  },
  {
   "cell_type": "code",
   "execution_count": 14,
   "metadata": {},
   "outputs": [],
   "source": [
    "from groq import Groq\n",
    "client = Groq(\n",
    "    api_key=\"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\"\n",
    ")"
   ]
  },
  {
   "cell_type": "code",
   "execution_count": 15,
   "metadata": {},
   "outputs": [],
   "source": [
    "def get_closedbook_qa_prompt(question: str):\n",
    "    with open(\"./prompting/closedbook_qa.prompt\") as f:\n",
    "        prompt_template = f.read().rstrip(\"\\n\")\n",
    "\n",
    "    return prompt_template.format(question=question)"
   ]
  },
  {
   "cell_type": "code",
   "execution_count": 17,
   "metadata": {},
   "outputs": [],
   "source": [
    "def get_closedbook_responses(inp, out):\n",
    "    prompts = []\n",
    "    responses = []\n",
    "    correct_responses = []\n",
    "    \n",
    "    with open(inp) as fin:\n",
    "        for line in tqdm(fin):\n",
    "            input_example = json.loads(line)\n",
    "            \n",
    "            # Getting question and correct answer\n",
    "            question = input_example[\"question\"]\n",
    "            correct_answer = input_example[\"answers\"]\n",
    "            \n",
    "            qa_closedbook_prompt = get_closedbook_qa_prompt(question)\n",
    "            \n",
    "            prompts.append(qa_closedbook_prompt)\n",
    "            correct_responses.append(correct_answer)\n",
    "            \n",
    "            chat_completion = client.chat.completions.create(\n",
    "                messages=[\n",
    "                    {\n",
    "                        \"role\": \"user\",\n",
    "                        \"content\": qa_closedbook_prompt,\n",
    "                    }\n",
    "                ],\n",
    "                model=\"llama2-70b-4096\",  \n",
    "            )\n",
    "            response = chat_completion.choices[0].message.content\n",
    "\n",
    "            responses.append(response)\n",
    "            time.sleep(2) \n",
    "             \n",
    "            \n",
    "    with open(out, \"w\") as f:\n",
    "        for prompt, response, correct_answer in zip(prompts, responses, correct_responses):\n",
    "            output = {}\n",
    "\n",
    "            output[\"model_prompt\"] = prompt\n",
    "            output[\"model_answer\"] = response\n",
    "            output[\"model\"] = model\n",
    "            output[\"correct_answer\"] = correct_answer\n",
    "\n",
    "            f.write(json.dumps(output) + \"\\n\")"
   ]
  },
  {
   "cell_type": "code",
   "execution_count": 18,
   "metadata": {},
   "outputs": [],
   "source": [
    "input_path = \"./qa_data/nq-open-oracle.json\"\n",
    "output_path = \"./responses/llama2_qa/llama2_70b_closedbook_responses.jsonl\""
   ]
  },
  {
   "cell_type": "code",
   "execution_count": 19,
   "metadata": {},
   "outputs": [
    {
     "name": "stderr",
     "output_type": "stream",
     "text": [
      "0it [00:00, ?it/s]"
     ]
    },
    {
     "name": "stderr",
     "output_type": "stream",
     "text": [
      "2655it [2:16:12,  3.08s/it]\n"
     ]
    }
   ],
   "source": [
    "get_closedbook_responses(input_path, output_path)"
   ]
  },
  {
   "cell_type": "code",
   "execution_count": null,
   "metadata": {},
   "outputs": [],
   "source": []
  }
 ],
 "metadata": {
  "kernelspec": {
   "display_name": "Python 3",
   "language": "python",
   "name": "python3"
  },
  "language_info": {
   "codemirror_mode": {
    "name": "ipython",
    "version": 3
   },
   "file_extension": ".py",
   "mimetype": "text/x-python",
   "name": "python",
   "nbconvert_exporter": "python",
   "pygments_lexer": "ipython3",
   "version": "3.10.11"
  }
 },
 "nbformat": 4,
 "nbformat_minor": 2
}
