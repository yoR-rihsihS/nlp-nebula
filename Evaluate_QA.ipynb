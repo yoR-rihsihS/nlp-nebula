{
 "cells": [
  {
   "cell_type": "code",
   "execution_count": 1,
   "id": "6b46dad8",
   "metadata": {},
   "outputs": [],
   "source": [
    "import json\n",
    "import string\n",
    "import regex\n",
    "from typing import List\n",
    "import matplotlib.pyplot as plt"
   ]
  },
  {
   "cell_type": "code",
   "execution_count": 2,
   "id": "4131ee4c",
   "metadata": {},
   "outputs": [],
   "source": [
    "def normalize_answer(s: str) -> str:\n",
    "    \"\"\"Normalization from the SQuAD evaluation script.\n",
    "\n",
    "    See https://worksheets.codalab.org/rest/bundles/0x6b567e1cf2e041ec80d7098f031c5c9e/contents/blob/\n",
    "    \"\"\"\n",
    "    def remove_articles(text):\n",
    "        return regex.sub(r\"\\b(a|an|the)\\b\", \" \", text)\n",
    "\n",
    "    def white_space_fix(text):\n",
    "        return \" \".join(text.split())\n",
    "\n",
    "    def remove_punc(text):\n",
    "        exclude = set(string.punctuation)\n",
    "        return \"\".join(ch for ch in text if ch not in exclude)\n",
    "\n",
    "    def lower(text):\n",
    "        return text.lower()\n",
    "\n",
    "    return white_space_fix(remove_articles(remove_punc(lower(s))))\n",
    "\n",
    "\n",
    "def is_correct(prediction: str, ground_truths: List[str]) -> float:\n",
    "    normalized_prediction = normalize_answer(prediction)\n",
    "\n",
    "    for ground_truth in ground_truths:\n",
    "        normalized_ground_truth = normalize_answer(ground_truth)\n",
    "        if normalized_ground_truth.lower() in normalized_prediction.lower():\n",
    "            return 1.0\n",
    "    return 0.0"
   ]
  },
  {
   "cell_type": "code",
   "execution_count": 3,
   "id": "e8c8f7f3",
   "metadata": {},
   "outputs": [],
   "source": [
    "def evaluate_qa_responses(inp : str):\n",
    "    correct_count, total_count = 0, 0\n",
    "    with open(inp) as fin:\n",
    "        for line in fin:\n",
    "            input_res = json.loads(line)\n",
    "            total_count += 1\n",
    "            \n",
    "            correct_answers = input_res[\"correct_answer\"]\n",
    "            model_answer = input_res[\"model_answer\"]       \n",
    "            correct_count += is_correct(model_answer, correct_answers)\n",
    "            \n",
    "    return correct_count / total_count"
   ]
  },
  {
   "cell_type": "markdown",
   "id": "6b7ba8f6",
   "metadata": {},
   "source": [
    "## Gemini Pro"
   ]
  },
  {
   "cell_type": "code",
   "execution_count": 4,
   "id": "a76244e8",
   "metadata": {},
   "outputs": [
    {
     "name": "stdout",
     "output_type": "stream",
     "text": [
      "Accuracies for qa task closedbook =\n",
      "0.43615819209039547\n",
      "Accuracies for qa task oracle =\n",
      "0.7156308851224106\n",
      "Accuracies for qa task (QAC) oracle =\n",
      "0.7830508474576271\n"
     ]
    }
   ],
   "source": [
    "print(\"Accuracies for qa task closedbook =\")\n",
    "print(evaluate_qa_responses(\"./responses/gemini_qa/gemini_closedbook_responses.jsonl\"))\n",
    "print(\"Accuracies for qa task oracle =\")\n",
    "print(evaluate_qa_responses(\"./responses/gemini_qa/gemini_oracle_responses.jsonl\"))\n",
    "print(\"Accuracies for qa task (QAC) oracle =\")\n",
    "print(evaluate_qa_responses(\"./responses/gemini_qa/gemini_oracle_QAC_responses.jsonl\"))"
   ]
  },
  {
   "cell_type": "code",
   "execution_count": 5,
   "id": "c42a1077",
   "metadata": {},
   "outputs": [],
   "source": [
    "input_paths = [\"./responses/gemini_qa/gemini_10_doc_at_0_responses.jsonl\",\n",
    "               \"./responses/gemini_qa/gemini_10_doc_at_4_responses.jsonl\",\n",
    "               \"./responses/gemini_qa/gemini_10_doc_at_9_responses.jsonl\"]\n",
    "\n",
    "loc = [0, 4, 9]"
   ]
  },
  {
   "cell_type": "code",
   "execution_count": 6,
   "id": "a845e7d4",
   "metadata": {},
   "outputs": [
    {
     "name": "stdout",
     "output_type": "stream",
     "text": [
      "Accuracies for qa task with number of documents = 10 and -\n",
      "relevant document located at 0 is = 0.6263653483992467\n",
      "relevant document located at 4 is = 0.5721280602636535\n",
      "relevant document located at 9 is = 0.6598870056497175\n"
     ]
    }
   ],
   "source": [
    "print(\"Accuracies for qa task with number of documents = 10 and -\")\n",
    "for i in range(len(input_paths)):\n",
    "    print(\"relevant document located at\", loc[i], \"is =\", evaluate_qa_responses(input_paths[i]))"
   ]
  },
  {
   "cell_type": "code",
   "execution_count": 7,
   "id": "011af09e",
   "metadata": {},
   "outputs": [],
   "source": [
    "input_paths = [\"./responses/gemini_qa/gemini_10_doc_at_0_QAC_responses.jsonl\",\n",
    "               \"./responses/gemini_qa/gemini_10_doc_at_4_QAC_responses.jsonl\",\n",
    "               \"./responses/gemini_qa/gemini_10_doc_at_9_QAC_responses.jsonl\"]\n",
    "\n",
    "loc = [0, 4, 9]"
   ]
  },
  {
   "cell_type": "code",
   "execution_count": 8,
   "id": "2f9f494c",
   "metadata": {},
   "outputs": [
    {
     "name": "stdout",
     "output_type": "stream",
     "text": [
      "Accuracies for qa task (QAC) with number of documents = 10 and -\n",
      "relevant document located at 0 is = 0.6738229755178907\n",
      "relevant document located at 4 is = 0.6497175141242938\n",
      "relevant document located at 9 is = 0.6922787193973635\n"
     ]
    }
   ],
   "source": [
    "print(\"Accuracies for qa task (QAC) with number of documents = 10 and -\")\n",
    "for i in range(len(input_paths)):\n",
    "    print(\"relevant document located at\", loc[i], \"is =\", evaluate_qa_responses(input_paths[i]))"
   ]
  },
  {
   "cell_type": "code",
   "execution_count": 9,
   "id": "996e454b",
   "metadata": {},
   "outputs": [],
   "source": [
    "input_paths = [\"./responses/gemini_qa/gemini_20_doc_at_0_responses.jsonl\",\n",
    "               \"./responses/gemini_qa/gemini_20_doc_at_4_responses.jsonl\",\n",
    "               \"./responses/gemini_qa/gemini_20_doc_at_9_responses.jsonl\",\n",
    "               \"./responses/gemini_qa/gemini_20_doc_at_14_responses.jsonl\",\n",
    "               \"./responses/gemini_qa/gemini_20_doc_at_19_responses.jsonl\"]\n",
    "\n",
    "loc = [0, 4, 9, 14, 19]"
   ]
  },
  {
   "cell_type": "code",
   "execution_count": 10,
   "id": "eea71803",
   "metadata": {},
   "outputs": [
    {
     "name": "stdout",
     "output_type": "stream",
     "text": [
      "Accuracies for qa task with number of documents = 20 and -\n",
      "relevant document located at 0 is = 0.5856873822975518\n",
      "relevant document located at 4 is = 0.5318267419962335\n",
      "relevant document located at 9 is = 0.5480225988700564\n",
      "relevant document located at 14 is = 0.5555555555555556\n",
      "relevant document located at 19 is = 0.6444444444444445\n"
     ]
    }
   ],
   "source": [
    "print(\"Accuracies for qa task with number of documents = 20 and -\")\n",
    "for i in range(len(input_paths)):\n",
    "    print(\"relevant document located at\", loc[i], \"is =\", evaluate_qa_responses(input_paths[i]))"
   ]
  },
  {
   "cell_type": "code",
   "execution_count": 11,
   "id": "841fe247",
   "metadata": {},
   "outputs": [],
   "source": [
    "input_paths = [\"./responses/gemini_qa/gemini_20_doc_at_0_QAC_responses.jsonl\",\n",
    "               \"./responses/gemini_qa/gemini_20_doc_at_4_QAC_responses.jsonl\",\n",
    "               \"./responses/gemini_qa/gemini_20_doc_at_9_QAC_responses.jsonl\",\n",
    "               \"./responses/gemini_qa/gemini_20_doc_at_14_QAC_responses.jsonl\",\n",
    "               \"./responses/gemini_qa/gemini_20_doc_at_19_QAC_responses.jsonl\"]\n",
    "\n",
    "loc = [0, 4, 9, 14, 19]"
   ]
  },
  {
   "cell_type": "code",
   "execution_count": 12,
   "id": "6d88453a",
   "metadata": {},
   "outputs": [
    {
     "name": "stdout",
     "output_type": "stream",
     "text": [
      "Accuracies for qa task (QAC) with number of documents = 20 and -\n",
      "relevant document located at 0 is = 0.632768361581921\n",
      "relevant document located at 4 is = 0.599623352165725\n",
      "relevant document located at 9 is = 0.6203389830508474\n",
      "relevant document located at 14 is = 0.6222222222222222\n",
      "relevant document located at 19 is = 0.6734463276836158\n"
     ]
    }
   ],
   "source": [
    "print(\"Accuracies for qa task (QAC) with number of documents = 20 and -\")\n",
    "for i in range(len(input_paths)):\n",
    "    print(\"relevant document located at\", loc[i], \"is =\", evaluate_qa_responses(input_paths[i]))"
   ]
  },
  {
   "cell_type": "code",
   "execution_count": 13,
   "id": "c2bd131c",
   "metadata": {},
   "outputs": [],
   "source": [
    "input_paths = [\"./responses/gemini_qa/gemini_30_doc_at_0_responses.jsonl\",\n",
    "               \"./responses/gemini_qa/gemini_30_doc_at_4_responses.jsonl\",\n",
    "               \"./responses/gemini_qa/gemini_30_doc_at_9_responses.jsonl\",\n",
    "               \"./responses/gemini_qa/gemini_30_doc_at_14_responses.jsonl\",\n",
    "               \"./responses/gemini_qa/gemini_30_doc_at_19_responses.jsonl\",\n",
    "               \"./responses/gemini_qa/gemini_30_doc_at_24_responses.jsonl\",\n",
    "               \"./responses/gemini_qa/gemini_30_doc_at_29_responses.jsonl\"]\n",
    "\n",
    "loc = [0, 4, 9, 14, 19, 24, 29]"
   ]
  },
  {
   "cell_type": "code",
   "execution_count": 14,
   "id": "db19587a",
   "metadata": {},
   "outputs": [
    {
     "name": "stdout",
     "output_type": "stream",
     "text": [
      "Accuracies for qa task with number of documents = 30 and -\n",
      "relevant document located at 0 is = 0.5792843691148776\n",
      "relevant document located at 4 is = 0.4463276836158192\n",
      "relevant document located at 9 is = 0.45649717514124294\n",
      "relevant document located at 14 is = 0.4873822975517891\n",
      "relevant document located at 19 is = 0.5133709981167608\n",
      "relevant document located at 24 is = 0.5099811676082863\n",
      "relevant document located at 29 is = 0.6376647834274953\n"
     ]
    }
   ],
   "source": [
    "print(\"Accuracies for qa task with number of documents = 30 and -\")\n",
    "for i in range(len(input_paths)):\n",
    "    print(\"relevant document located at\", loc[i], \"is =\", evaluate_qa_responses(input_paths[i]))"
   ]
  },
  {
   "cell_type": "code",
   "execution_count": 15,
   "id": "564dc436",
   "metadata": {},
   "outputs": [],
   "source": [
    "input_paths = [\"./responses/gemini_qa/gemini_30_doc_at_0_QAC_responses.jsonl\",\n",
    "               \"./responses/gemini_qa/gemini_30_doc_at_4_QAC_responses.jsonl\",\n",
    "               \"./responses/gemini_qa/gemini_30_doc_at_9_QAC_responses.jsonl\",\n",
    "               \"./responses/gemini_qa/gemini_30_doc_at_14_QAC_responses.jsonl\",\n",
    "               \"./responses/gemini_qa/gemini_30_doc_at_19_QAC_responses.jsonl\",\n",
    "               \"./responses/gemini_qa/gemini_30_doc_at_24_QAC_responses.jsonl\",\n",
    "               \"./responses/gemini_qa/gemini_30_doc_at_29_QAC_responses.jsonl\"]\n",
    "\n",
    "loc = [0, 4, 9, 14, 19, 24, 29]"
   ]
  },
  {
   "cell_type": "code",
   "execution_count": 16,
   "id": "cb244f15",
   "metadata": {},
   "outputs": [
    {
     "name": "stdout",
     "output_type": "stream",
     "text": [
      "Accuracies for qa task (QAC) with number of documents = 30 and -\n",
      "relevant document located at 0 is = 0.6369114877589453\n",
      "relevant document located at 4 is = 0.5408662900188324\n",
      "relevant document located at 9 is = 0.543879472693032\n",
      "relevant document located at 14 is = 0.5698681732580038\n",
      "relevant document located at 19 is = 0.5947269303201507\n",
      "relevant document located at 24 is = 0.6015065913370998\n",
      "relevant document located at 29 is = 0.6696798493408663\n"
     ]
    }
   ],
   "source": [
    "print(\"Accuracies for qa task (QAC) with number of documents = 30 and -\")\n",
    "for i in range(len(input_paths)):\n",
    "    print(\"relevant document located at\", loc[i], \"is =\", evaluate_qa_responses(input_paths[i]))"
   ]
  },
  {
   "cell_type": "markdown",
   "id": "631efc27",
   "metadata": {},
   "source": [
    "## RWKV - Accuracy vs Size"
   ]
  },
  {
   "cell_type": "code",
   "execution_count": 22,
   "id": "e6cf483f",
   "metadata": {},
   "outputs": [],
   "source": [
    "accuracy = []\n",
    "def evaluate_qa_responses(inp : str):\n",
    "    correct_count, total_count = 0, 0\n",
    "    with open(inp) as fin:\n",
    "        for line in fin:\n",
    "            input_res = json.loads(line)\n",
    "            total_count += 1\n",
    "            \n",
    "            correct_answers = input_res[\"correct_answer\"]\n",
    "            model_answer = input_res[\"model_answer\"]       \n",
    "            correct_count += is_correct(model_answer, correct_answers)\n",
    "            \n",
    "    return correct_count / total_count"
   ]
  },
  {
   "cell_type": "code",
   "execution_count": 18,
   "id": "1e4a95c2",
   "metadata": {},
   "outputs": [],
   "source": [
    "input_paths = [\n",
    "    \"./responses/rwkv_accuracy_vs_size/raven_3b_20_doc_at_0_responses.jsonl\",\n",
    "    \"./responses/rwkv_accuracy_vs_size/raven_3b_20_doc_at_4_responses.jsonl\",\n",
    "    \"./responses/rwkv_accuracy_vs_size/raven_3b_20_doc_at_9_responses.jsonl\",\n",
    "    \"./responses/rwkv_accuracy_vs_size/raven_3b_20_doc_at_14_responses.jsonl\",\n",
    "    \"./responses/rwkv_accuracy_vs_size/raven_3b_20_doc_at_19_responses.jsonl\",\n",
    "    \"./responses/rwkv_accuracy_vs_size/raven_7b_20_doc_at_0_responses.jsonl\",\n",
    "    \"./responses/rwkv_accuracy_vs_size/raven_7b_20_doc_at_4_responses.jsonl\",\n",
    "    \"./responses/rwkv_accuracy_vs_size/raven_7b_20_doc_at_9_responses.jsonl\",\n",
    "    \"./responses/rwkv_accuracy_vs_size/raven_7b_20_doc_at_14_responses.jsonl\",\n",
    "    \"./responses/rwkv_accuracy_vs_size/raven_7b_20_doc_at_19_responses.jsonl\",\n",
    "    \"./responses/rwkv_accuracy_vs_size/raven_14b_20_doc_at_0_responses.jsonl\",\n",
    "    \"./responses/rwkv_accuracy_vs_size/raven_14b_20_doc_at_4_responses.jsonl\",\n",
    "    \"./responses/rwkv_accuracy_vs_size/raven_14b_20_doc_at_9_responses.jsonl\",\n",
    "    \"./responses/rwkv_accuracy_vs_size/raven_14b_20_doc_at_14_responses.jsonl\",\n",
    "    \"./responses/rwkv_accuracy_vs_size/raven_14b_20_doc_at_19_responses.jsonl\",\n",
    "]"
   ]
  },
  {
   "cell_type": "code",
   "execution_count": 19,
   "id": "69496aef",
   "metadata": {},
   "outputs": [
    {
     "name": "stdout",
     "output_type": "stream",
     "text": [
      "Accuracy is = 0.19171374764595103\n",
      "Accuracy is = 0.1856873822975518\n",
      "Accuracy is = 0.1928436911487759\n",
      "Accuracy is = 0.22259887005649717\n",
      "Accuracy is = 0.4177024482109228\n",
      "Accuracy is = 0.23691148775894538\n",
      "Accuracy is = 0.24143126177024482\n",
      "Accuracy is = 0.24444444444444444\n",
      "Accuracy is = 0.271939736346516\n",
      "Accuracy is = 0.3951035781544256\n",
      "Accuracy is = 0.32354048964218457\n",
      "Accuracy is = 0.3103578154425612\n",
      "Accuracy is = 0.3009416195856874\n",
      "Accuracy is = 0.3152542372881356\n",
      "Accuracy is = 0.4335216572504708\n"
     ]
    }
   ],
   "source": [
    "for i in range(len(input_paths)):\n",
    "    accuracy.append(evaluate_qa_responses(input_paths[i]))\n",
    "    print(\"Accuracy is =\", accuracy[-1])"
   ]
  },
  {
   "cell_type": "code",
   "execution_count": 20,
   "id": "11d5e158",
   "metadata": {},
   "outputs": [],
   "source": [
    "input_paths = [\n",
    "    \"./responses/rwkv_accuracy_vs_size/pile_3b_20_doc_at_0_responses.jsonl\",\n",
    "    \"./responses/rwkv_accuracy_vs_size/pile_3b_20_doc_at_4_responses.jsonl\",\n",
    "    \"./responses/rwkv_accuracy_vs_size/pile_3b_20_doc_at_9_responses.jsonl\",\n",
    "    \"./responses/rwkv_accuracy_vs_size/pile_3b_20_doc_at_14_responses.jsonl\",\n",
    "    \"./responses/rwkv_accuracy_vs_size/pile_3b_20_doc_at_19_responses.jsonl\",\n",
    "    \"./responses/rwkv_accuracy_vs_size/pile_7b_20_doc_at_0_responses.jsonl\",\n",
    "    \"./responses/rwkv_accuracy_vs_size/pile_7b_20_doc_at_4_responses.jsonl\",\n",
    "    \"./responses/rwkv_accuracy_vs_size/pile_7b_20_doc_at_9_responses.jsonl\",\n",
    "    \"./responses/rwkv_accuracy_vs_size/pile_7b_20_doc_at_14_responses.jsonl\",\n",
    "    \"./responses/rwkv_accuracy_vs_size/pile_7b_20_doc_at_19_responses.jsonl\",\n",
    "    \"./responses/rwkv_accuracy_vs_size/pile_14b_20_doc_at_0_responses.jsonl\",\n",
    "    \"./responses/rwkv_accuracy_vs_size/pile_14b_20_doc_at_4_responses.jsonl\",\n",
    "    \"./responses/rwkv_accuracy_vs_size/pile_14b_20_doc_at_9_responses.jsonl\",\n",
    "    \"./responses/rwkv_accuracy_vs_size/pile_14b_20_doc_at_14_responses.jsonl\",\n",
    "    \"./responses/rwkv_accuracy_vs_size/pile_14b_20_doc_at_19_responses.jsonl\",\n",
    "]"
   ]
  },
  {
   "cell_type": "code",
   "execution_count": 21,
   "id": "7f963a35",
   "metadata": {},
   "outputs": [
    {
     "name": "stdout",
     "output_type": "stream",
     "text": [
      "Accuracy is = 0.1096045197740113\n",
      "Accuracy is = 0.11035781544256121\n",
      "Accuracy is = 0.11563088512241054\n",
      "Accuracy is = 0.13258003766478343\n",
      "Accuracy is = 0.3273069679849341\n",
      "Accuracy is = 0.17702448210922786\n",
      "Accuracy is = 0.1800376647834275\n",
      "Accuracy is = 0.18794726930320152\n",
      "Accuracy is = 0.21393596986817326\n",
      "Accuracy is = 0.41318267419962335\n",
      "Accuracy is = 0.20979284369114878\n",
      "Accuracy is = 0.21657250470809794\n",
      "Accuracy is = 0.21619585687382298\n",
      "Accuracy is = 0.23615819209039549\n",
      "Accuracy is = 0.37325800376647833\n"
     ]
    }
   ],
   "source": [
    "for i in range(len(input_paths)):\n",
    "    accuracy.append(evaluate_qa_responses(input_paths[i]))\n",
    "    print(\"Accuracy is =\", accuracy[-1])"
   ]
  },
  {
   "cell_type": "code",
   "execution_count": 22,
   "id": "e1af8001",
   "metadata": {},
   "outputs": [
    {
     "data": {
      "image/png": "[encoded data removed]",
      "text/plain": [
       "<Figure size 1000x600 with 1 Axes>"
      ]
     },
     "metadata": {},
     "output_type": "display_data"
    }
   ],
   "source": [
    "x = [0, 4, 9, 14, 19]\n",
    "yy = []\n",
    "for i in range(len(accuracy) // len(x)):\n",
    "    y = []\n",
    "    for j in range(len(x)):\n",
    "        y.append(accuracy[len(x)*i + j]*100)\n",
    "    yy.append(y)\n",
    "    \n",
    "f, ax = plt.subplots(1, 1, facecolor='w', figsize=(10, 6))\n",
    "ax.grid()\n",
    "\n",
    "ax.set_ylabel(\"Accuracy\", fontsize=14)\n",
    "ax.set_xlabel(\"Relevant Document Index\", fontsize=14)\n",
    "\n",
    "ax.plot(x, yy[0], linewidth = 2.0, color = \"b\", label=\"raven-3b\")\n",
    "ax.plot(x, yy[0], \"bo\", markersize = 4.0)\n",
    "\n",
    "ax.plot(x, yy[1], linewidth = 2.0, color = \"g\", label=\"raven-7b\")\n",
    "ax.plot(x, yy[1], \"go\", markersize = 4.0)\n",
    "\n",
    "ax.plot(x, yy[2], linewidth = 2.0, color = \"r\", label=\"raven-14b\")\n",
    "ax.plot(x, yy[2], \"ro\", markersize = 4.0)\n",
    "\n",
    "ax.plot(x, yy[3], linewidth = 2.0, color = \"b\", label=\"pile-3b\", linestyle=\":\")\n",
    "ax.plot(x, yy[3], \"bo\", markersize = 4.0)\n",
    "\n",
    "ax.plot(x, yy[4], linewidth = 2.0, color = \"g\", label=\"pile-7b\", linestyle=\":\")\n",
    "ax.plot(x, yy[4], \"go\", markersize = 4.0)\n",
    "\n",
    "ax.plot(x, yy[5], linewidth = 2.0, color = \"r\", label=\"pile-14b\", linestyle=\":\")\n",
    "ax.plot(x, yy[5], \"ro\", markersize = 4.0)\n",
    "\n",
    "ax.set_title(\"Accuracy vs Size\", fontsize=16)\n",
    "ax.legend()\n",
    "plt.tight_layout()\n",
    "plt.show()"
   ]
  },
  {
   "cell_type": "markdown",
   "id": "8da5c839",
   "metadata": {},
   "source": [
    "## RWKV - Raven 14b QA Task Accuracy"
   ]
  },
  {
   "cell_type": "code",
   "execution_count": 23,
   "id": "ebad97af",
   "metadata": {},
   "outputs": [],
   "source": [
    "input_paths = [\n",
    "    \"raven_14b_closedbook_responses\",\n",
    "    \"raven_14b_oracle_responses\",\n",
    "    \"raven_14b_oracle_QAC_responses\",\n",
    "    \"raven_14b_10_doc_at_0_responses\",\n",
    "    \"raven_14b_10_doc_at_4_responses\",\n",
    "    \"raven_14b_10_doc_at_9_responses\",\n",
    "    \"raven_14b_10_doc_at_0_QAC_responses\",\n",
    "    \"raven_14b_10_doc_at_4_QAC_responses\",\n",
    "    \"raven_14b_10_doc_at_9_QAC_responses\",\n",
    "    \"raven_14b_20_doc_at_0_responses\",\n",
    "    \"raven_14b_20_doc_at_4_responses\",\n",
    "    \"raven_14b_20_doc_at_9_responses\",\n",
    "    \"raven_14b_20_doc_at_14_responses\",\n",
    "    \"raven_14b_20_doc_at_19_responses\",\n",
    "    \"raven_14b_20_doc_at_0_QAC_responses\",\n",
    "    \"raven_14b_20_doc_at_4_QAC_responses\",\n",
    "    \"raven_14b_20_doc_at_9_QAC_responses\",\n",
    "    \"raven_14b_20_doc_at_14_QAC_responses\",\n",
    "    \"raven_14b_20_doc_at_19_QAC_responses\",\n",
    "    \"raven_14b_30_doc_at_0_responses\",\n",
    "    \"raven_14b_30_doc_at_4_responses\",\n",
    "    \"raven_14b_30_doc_at_9_responses\",\n",
    "    \"raven_14b_30_doc_at_14_responses\",\n",
    "    \"raven_14b_30_doc_at_19_responses\",\n",
    "    \"raven_14b_30_doc_at_24_responses\",\n",
    "    \"raven_14b_30_doc_at_29_responses\",\n",
    "    \"raven_14b_30_doc_at_0_QAC_responses\",\n",
    "    \"raven_14b_30_doc_at_4_QAC_responses\",\n",
    "    \"raven_14b_30_doc_at_9_QAC_responses\",\n",
    "    \"raven_14b_30_doc_at_14_QAC_responses\",\n",
    "    \"raven_14b_30_doc_at_19_QAC_responses\",\n",
    "    \"raven_14b_30_doc_at_24_QAC_responses\",\n",
    "    \"raven_14b_30_doc_at_29_QAC_responses\",\n",
    "]"
   ]
  },
  {
   "cell_type": "code",
   "execution_count": 24,
   "id": "52ec0e33",
   "metadata": {},
   "outputs": [
    {
     "name": "stdout",
     "output_type": "stream",
     "text": [
      "Accuracy for raven_14b_closedbook_responses is = 0.30772128060263654\n",
      "Accuracy for raven_14b_oracle_responses is = 0.8056497175141243\n",
      "Accuracy for raven_14b_oracle_QAC_responses is = 0.7619585687382298\n",
      "Accuracy for raven_14b_10_doc_at_0_responses is = 0.3845574387947269\n",
      "Accuracy for raven_14b_10_doc_at_4_responses is = 0.3495291902071563\n",
      "Accuracy for raven_14b_10_doc_at_9_responses is = 0.4384180790960452\n",
      "Accuracy for raven_14b_10_doc_at_0_QAC_responses is = 0.38342749529190207\n",
      "Accuracy for raven_14b_10_doc_at_4_QAC_responses is = 0.335969868173258\n",
      "Accuracy for raven_14b_10_doc_at_9_QAC_responses is = 0.40941619585687383\n",
      "Accuracy for raven_14b_20_doc_at_0_responses is = 0.32354048964218457\n",
      "Accuracy for raven_14b_20_doc_at_4_responses is = 0.3103578154425612\n",
      "Accuracy for raven_14b_20_doc_at_9_responses is = 0.3009416195856874\n",
      "Accuracy for raven_14b_20_doc_at_14_responses is = 0.3152542372881356\n",
      "Accuracy for raven_14b_20_doc_at_19_responses is = 0.4335216572504708\n",
      "Accuracy for raven_14b_20_doc_at_0_QAC_responses is = 0.32919020715630887\n",
      "Accuracy for raven_14b_20_doc_at_4_QAC_responses is = 0.3088512241054614\n",
      "Accuracy for raven_14b_20_doc_at_9_QAC_responses is = 0.3013182674199623\n",
      "Accuracy for raven_14b_20_doc_at_14_QAC_responses is = 0.3080979284369115\n",
      "Accuracy for raven_14b_20_doc_at_19_QAC_responses is = 0.3977401129943503\n",
      "Accuracy for raven_14b_30_doc_at_0_responses is = 0.3024482109227872\n",
      "Accuracy for raven_14b_30_doc_at_4_responses is = 0.29453860640301316\n",
      "Accuracy for raven_14b_30_doc_at_9_responses is = 0.2903954802259887\n",
      "Accuracy for raven_14b_30_doc_at_14_responses is = 0.2903954802259887\n",
      "Accuracy for raven_14b_30_doc_at_19_responses is = 0.2967984934086629\n",
      "Accuracy for raven_14b_30_doc_at_24_responses is = 0.30922787193973633\n",
      "Accuracy for raven_14b_30_doc_at_29_responses is = 0.46214689265536724\n",
      "Accuracy for raven_14b_30_doc_at_0_QAC_responses is = 0.29642184557438794\n",
      "Accuracy for raven_14b_30_doc_at_4_QAC_responses is = 0.28888888888888886\n",
      "Accuracy for raven_14b_30_doc_at_9_QAC_responses is = 0.28173258003766477\n",
      "Accuracy for raven_14b_30_doc_at_14_QAC_responses is = 0.2768361581920904\n",
      "Accuracy for raven_14b_30_doc_at_19_QAC_responses is = 0.280225988700565\n",
      "Accuracy for raven_14b_30_doc_at_24_QAC_responses is = 0.29265536723163843\n",
      "Accuracy for raven_14b_30_doc_at_29_QAC_responses is = 0.4350282485875706\n"
     ]
    }
   ],
   "source": [
    "for i in range(len(input_paths)):\n",
    "    print(\"Accuracy for\", input_paths[i], \"is =\", evaluate_qa_responses(\"./responses/rwkv_raven_14b_qa/\"+input_paths[i]+\".jsonl\"))"
   ]
  },
  {
   "cell_type": "markdown",
   "id": "5f7ec278",
   "metadata": {},
   "source": [
    "## LLaMA2"
   ]
  },
  {
   "cell_type": "code",
   "execution_count": null,
   "id": "c61c8764",
   "metadata": {},
   "outputs": [
    {
     "name": "stdout",
     "output_type": "stream",
     "text": [
      "Accuracies for qa task closedbook =\n",
      "0.5133709981167608\n",
      "Accuracies for qa task oracle =\n",
      "0.9024482109227872\n",
      "Accuracies for qa task (QAC) oracle =\n",
      "0.8952919020715631\n"
     ]
    }
   ],
   "source": [
    "print(\"Accuracies for qa task closedbook =\")\n",
    "print(evaluate_qa_responses(\"./responses/llama2_qa/llama2_closedbook_responses.jsonl\"))\n",
    "print(\"Accuracies for qa task oracle =\")\n",
    "print(evaluate_qa_responses(\"./responses/llama2_qa/llama2_oracle_responses.jsonl\"))\n",
    "print(\"Accuracies for qa task (QAC) oracle =\")\n",
    "print(evaluate_qa_responses(\"./responses/llama2_qa/llama2_oracle_QAC_responses.jsonl\"))"
   ]
  },
  {
   "cell_type": "code",
   "execution_count": null,
   "id": "078b7000",
   "metadata": {},
   "outputs": [],
   "source": [
    "input_paths = [\"./responses/llama2_qa/llama2_10_doc_at_0_responses.jsonl\",\n",
    "               \"./responses/llama2_qa/llama2_10_doc_at_4_responses.jsonl\",\n",
    "               \"./responses/llama2_qa/llama2_10_doc_at_9_responses.jsonl\"]\n",
    "\n",
    "loc = [0, 4, 9]"
   ]
  },
  {
   "cell_type": "code",
   "execution_count": null,
   "id": "1205c302",
   "metadata": {},
   "outputs": [
    {
     "name": "stdout",
     "output_type": "stream",
     "text": [
      "Accuracies for qa task with number of documents = 10 and -\n",
      "relevant document located at 0 is = 0.7367231638418079\n",
      "relevant document located at 4 is = 0.67866927592955\n",
      "relevant document located at 9 is = 0.6986817325800376\n"
     ]
    }
   ],
   "source": [
    "print(\"Accuracies for qa task with number of documents = 10 and -\")\n",
    "for i in range(len(input_paths)):\n",
    "    print(\"relevant document located at\", loc[i], \"is =\", evaluate_qa_responses(input_paths[i]))"
   ]
  },
  {
   "cell_type": "code",
   "execution_count": null,
   "id": "a721098c",
   "metadata": {},
   "outputs": [],
   "source": [
    "input_paths = [\"./responses/llama2_qa/llama2_10_doc_at_0_QAC_responses.jsonl\",\n",
    "               \"./responses/llama2_qa/llama2_10_doc_at_4_QAC_responses.jsonl\",\n",
    "               \"./responses/llama2_qa/llama2_10_doc_at_9_QAC_responses.jsonl\"]\n",
    "\n",
    "loc = [0, 4, 9]"
   ]
  },
  {
   "cell_type": "code",
   "execution_count": null,
   "id": "c9b69f73",
   "metadata": {},
   "outputs": [
    {
     "name": "stdout",
     "output_type": "stream",
     "text": [
      "Accuracies for qa task (QAC) with number of documents = 10 and -\n",
      "relevant document located at 0 is = 0.7747645951035782\n",
      "relevant document located at 4 is = 0.7050847457627119\n",
      "relevant document located at 9 is = 0.6851224105461393\n"
     ]
    }
   ],
   "source": [
    "print(\"Accuracies for qa task (QAC) with number of documents = 10 and -\")\n",
    "for i in range(len(input_paths)):\n",
    "    print(\"relevant document located at\", loc[i], \"is =\", evaluate_qa_responses(input_paths[i]))"
   ]
  },
  {
   "cell_type": "code",
   "execution_count": null,
   "id": "b5910565",
   "metadata": {},
   "outputs": [],
   "source": [
    "input_paths = [\"./responses/llama2_qa/llama2_20_doc_at_0_responses.jsonl\",\n",
    "               \"./responses/llama2_qa/llama2_20_doc_at_4_responses.jsonl\",\n",
    "               \"./responses/llama2_qa/llama2_20_doc_at_9_responses.jsonl\",\n",
    "               \"./responses/llama2_qa/llama2_20_doc_at_14_responses.jsonl\",\n",
    "               \"./responses/llama2_qa/llama2_20_doc_at_19_responses.jsonl\"]\n",
    "\n",
    "loc = [0, 4, 9, 14, 19]"
   ]
  },
  {
   "cell_type": "code",
   "execution_count": null,
   "id": "f09f9dcc",
   "metadata": {},
   "outputs": [
    {
     "name": "stdout",
     "output_type": "stream",
     "text": [
      "Accuracies for qa task with number of documents = 20 and -\n",
      "relevant document located at 0 is = 0.6030131826741997\n",
      "relevant document located at 4 is = 0.4440677966101695\n",
      "relevant document located at 9 is = 0.45875706214689266\n",
      "relevant document located at 14 is = 0.4862523540489642\n",
      "relevant document located at 19 is = 0.27984934086629004\n"
     ]
    }
   ],
   "source": [
    "print(\"Accuracies for qa task with number of documents = 20 and -\")\n",
    "for i in range(len(input_paths)):\n",
    "    print(\"relevant document located at\", loc[i], \"is =\", evaluate_qa_responses(input_paths[i]))"
   ]
  },
  {
   "cell_type": "code",
   "execution_count": null,
   "id": "b952856b",
   "metadata": {},
   "outputs": [],
   "source": [
    "input_paths = [\"./responses/llama2_qa/llama2_20_doc_at_0_QAC_responses.jsonl\",\n",
    "               \"./responses/llama2_qa/llama2_20_doc_at_4_QAC_responses.jsonl\",\n",
    "               \"./responses/llama2_qa/llama2_20_doc_at_9_QAC_responses.jsonl\",\n",
    "               \"./responses/llama2_qa/llama2_20_doc_at_14_QAC_responses.jsonl\",\n",
    "               \"./responses/llama2_qa/llama2_20_doc_at_19_QAC_responses.jsonl\"]\n",
    "\n",
    "loc = [0, 4, 9, 14, 19]"
   ]
  },
  {
   "cell_type": "code",
   "execution_count": null,
   "id": "fa1aec99",
   "metadata": {},
   "outputs": [
    {
     "name": "stdout",
     "output_type": "stream",
     "text": [
      "Accuracies for qa task (QAC) with number of documents = 20 and -\n",
      "relevant document located at 0 is = 0.7032015065913371\n",
      "relevant document located at 4 is = 0.5666041275797373\n",
      "relevant document located at 9 is = 0.5871939736346516\n",
      "relevant document located at 14 is = 0.5416195856873823\n",
      "relevant document located at 19 is = 0.35900339750849375\n"
     ]
    }
   ],
   "source": [
    "print(\"Accuracies for qa task (QAC) with number of documents = 20 and -\")\n",
    "for i in range(len(input_paths)):\n",
    "    print(\"relevant document located at\", loc[i], \"is =\", evaluate_qa_responses(input_paths[i]))"
   ]
  },
  {
   "cell_type": "code",
   "execution_count": 17,
   "id": "fbe6f032",
   "metadata": {},
   "outputs": [],
   "source": [
    "input_paths = [\"./responses/llama2_qa/llama2_30_doc_at_0_responses.jsonl\",\n",
    "               \"./responses/llama2_qa/llama2_30_doc_at_4_responses.jsonl\",\n",
    "               \"./responses/llama2_qa/llama2_30_doc_at_9_responses.jsonl\",\n",
    "               \"./responses/llama2_qa/llama2_30_doc_at_14_responses.jsonl\",\n",
    "               \"./responses/llama2_qa/llama2_30_doc_at_19_responses.jsonl\",\n",
    "               \"./responses/llama2_qa/llama2_30_doc_at_24_responses.jsonl\",\n",
    "               \"./responses/llama2_qa/llama2_30_doc_at_29_responses.jsonl\"]\n",
    "\n",
    "loc = [0, 4, 9, 14, 19, 24, 29]"
   ]
  },
  {
   "cell_type": "code",
   "execution_count": 18,
   "id": "87f18a94",
   "metadata": {},
   "outputs": [
    {
     "name": "stdout",
     "output_type": "stream",
     "text": [
      "Accuracies for qa task with number of documents = 30 and -\n",
      "relevant document located at 0 is = 0.6195856873822976\n",
      "relevant document located at 4 is = 0.5156308851224105\n",
      "relevant document located at 9 is = 0.5001883239171375\n",
      "relevant document located at 14 is = 0.5096045197740113\n",
      "relevant document located at 19 is = 0.25348399246704334\n",
      "relevant document located at 24 is = 0.24331450094161958\n",
      "relevant document located at 29 is = 0.2775894538606403\n"
     ]
    }
   ],
   "source": [
    "print(\"Accuracies for qa task with number of documents = 30 and -\")\n",
    "for i in range(len(input_paths)):\n",
    "    print(\"relevant document located at\", loc[i], \"is =\", evaluate_qa_responses(input_paths[i]))"
   ]
  },
  {
   "cell_type": "code",
   "execution_count": 19,
   "id": "faee2dd3",
   "metadata": {},
   "outputs": [],
   "source": [
    "input_paths = [\"./responses/llama2_qa/llama2_30_doc_at_0_QAC_responses.jsonl\",\n",
    "               \"./responses/llama2_qa/llama2_30_doc_at_4_QAC_responses.jsonl\",\n",
    "               \"./responses/llama2_qa/llama2_30_doc_at_9_QAC_responses.jsonl\",\n",
    "               \"./responses/llama2_qa/llama2_30_doc_at_14_QAC_responses.jsonl\",\n",
    "               \"./responses/llama2_qa/llama2_30_doc_at_19_QAC_responses.jsonl\",\n",
    "               \"./responses/llama2_qa/llama2_30_doc_at_24_QAC_responses.jsonl\",\n",
    "               \"./responses/llama2_qa/llama2_30_doc_at_29_QAC_responses.jsonl\"]\n",
    "\n",
    "loc = [0, 4, 9, 14, 19, 24, 29]"
   ]
  },
  {
   "cell_type": "code",
   "execution_count": 20,
   "id": "b0f0f3bf",
   "metadata": {},
   "outputs": [
    {
     "name": "stdout",
     "output_type": "stream",
     "text": [
      "Accuracies for qa task (QAC) with number of documents = 30 and -\n",
      "relevant document located at 0 is = 0.7047080979284369\n",
      "relevant document located at 4 is = 0.5917137476459511\n",
      "relevant document located at 9 is = 0.5329566854990584\n",
      "relevant document located at 14 is = 0.5672316384180791\n",
      "relevant document located at 19 is = 0.3408662900188324\n",
      "relevant document located at 24 is = 0.34689265536723163\n",
      "relevant document located at 29 is = 0.3559322033898305\n"
     ]
    }
   ],
   "source": [
    "print(\"Accuracies for qa task (QAC) with number of documents = 30 and -\")\n",
    "for i in range(len(input_paths)):\n",
    "    print(\"relevant document located at\", loc[i], \"is =\", evaluate_qa_responses(input_paths[i]))"
   ]
  },
  {
   "cell_type": "markdown",
   "id": "9d7e26c0",
   "metadata": {},
   "source": [
    "# Mistral 7B "
   ]
  },
  {
   "cell_type": "code",
   "execution_count": 23,
   "id": "5d74af28",
   "metadata": {},
   "outputs": [],
   "source": [
    "accuracy = []\n",
    "def evaluate_qa_responses(inp : str):\n",
    "    correct_count, total_count = 0, 0\n",
    "    with open(inp) as fin:\n",
    "        for line in fin:\n",
    "            input_res = json.loads(line)\n",
    "            total_count += 1\n",
    "            \n",
    "            correct_answers = input_res[\"correct_answer\"]\n",
    "            answer_index = input_res[\"model_answer\"].find(\"Answer:\") # the model returns context also, hence manually removed the context.\n",
    "            model_answer = input_res[\"model_answer\"][answer_index + len(\"Answer:\"):].strip()\n",
    "\n",
    "            correct_count += is_correct(model_answer, correct_answers)\n",
    "            \n",
    "    return correct_count / total_count"
   ]
  },
  {
   "cell_type": "markdown",
   "id": "2ccf8128",
   "metadata": {},
   "source": [
    "print(\"Accuracies for qa task closedbook =\")\n",
    "print(evaluate_qa_responses(\"./responses/mistral_qa/llama2_closedbook_responses.jsonl\"))\n",
    "print(\"Accuracies for qa task oracle =\")\n",
    "print(evaluate_qa_responses(\"./responses/llama2_qa/llama2_oracle_responses.jsonl\"))\n",
    "print(\"Accuracies for qa task (QAC) oracle =\")\n",
    "print(evaluate_qa_responses(\"./responses/llama2_qa/llama2_oracle_QAC_responses.jsonl\"))"
   ]
  },
  {
   "cell_type": "code",
   "execution_count": 24,
   "id": "9b70ec5c",
   "metadata": {},
   "outputs": [],
   "source": [
    "input_paths = [\"./responses/mistral_qa/mist_7b_sdpa_10_doc_at_0_responses.jsonl\",\n",
    "               \"./responses/mistral_qa/mist_7b_sdpa_10_doc_at_4_responses.jsonl\",\n",
    "               \"./responses/mistral_qa/mist_7b_sdpa_10_doc_at_9_responses.jsonl\"]\n",
    "\n",
    "loc = [0, 4, 9]"
   ]
  },
  {
   "cell_type": "code",
   "execution_count": 25,
   "id": "c342c7da",
   "metadata": {},
   "outputs": [
    {
     "name": "stdout",
     "output_type": "stream",
     "text": [
      "Accuracies for qa task with number of documents = 10 and -\n",
      "relevant document located at 0 is = 0.7160075329566855\n",
      "relevant document located at 4 is = 0.688512241054614\n",
      "relevant document located at 9 is = 0.6824858757062147\n"
     ]
    }
   ],
   "source": [
    "print(\"Accuracies for qa task with number of documents = 10 and -\")\n",
    "for i in range(len(input_paths)):\n",
    "    print(\"relevant document located at\", loc[i], \"is =\", evaluate_qa_responses(input_paths[i]))"
   ]
  },
  {
   "cell_type": "code",
   "execution_count": 26,
   "id": "1a8b7b55",
   "metadata": {},
   "outputs": [],
   "source": [
    "input_paths = [\"./responses/mistral_qa/mist_7b_sdpa_10_doc_at_0_QAC_responses.jsonl\",\n",
    "               \"./responses/mistral_qa/mist_7b_sdpa_10_doc_at_4_QAC_responses.jsonl\",\n",
    "               \"./responses/mistral_qa/mist_7b_sdpa_10_doc_at_9_QAC_responses.jsonl\"]\n",
    "\n",
    "loc = [0, 4, 9]"
   ]
  },
  {
   "cell_type": "code",
   "execution_count": 27,
   "id": "113753c6",
   "metadata": {},
   "outputs": [
    {
     "name": "stdout",
     "output_type": "stream",
     "text": [
      "Accuracies for qa task (QAC) with number of documents = 10 and -\n",
      "relevant document located at 0 is = 0.7755178907721281\n",
      "relevant document located at 4 is = 0.6764595103578155\n",
      "relevant document located at 9 is = 0.6421845574387948\n"
     ]
    }
   ],
   "source": [
    "print(\"Accuracies for qa task (QAC) with number of documents = 10 and -\")\n",
    "for i in range(len(input_paths)):\n",
    "    print(\"relevant document located at\", loc[i], \"is =\", evaluate_qa_responses(input_paths[i]))"
   ]
  },
  {
   "cell_type": "code",
   "execution_count": 28,
   "id": "55bb9df6",
   "metadata": {},
   "outputs": [],
   "source": [
    "input_paths = [\"./responses/mistral_qa/mist_7b_sdpa_20_doc_at_0_responses.jsonl\",\n",
    "               \"./responses/mistral_qa/mist_7b_sdpa_20_doc_at_4_responses.jsonl\",\n",
    "               \"./responses/mistral_qa/mist_7b_sdpa_20_doc_at_9_responses.jsonl\",\n",
    "               \"./responses/mistral_qa/mist_7b_sdpa_20_doc_at_14_responses.jsonl\",\n",
    "               \"./responses/mistral_qa/mist_7b_sdpa_20_doc_at_19_responses.jsonl\"]\n",
    "\n",
    "loc = [0, 4, 9, 14, 19]"
   ]
  },
  {
   "cell_type": "code",
   "execution_count": 29,
   "id": "0966e0be",
   "metadata": {},
   "outputs": [
    {
     "name": "stdout",
     "output_type": "stream",
     "text": [
      "Accuracies for qa task with number of documents = 20 and -\n",
      "relevant document located at 0 is = 0.647834274952919\n",
      "relevant document located at 4 is = 0.6500941619585687\n",
      "relevant document located at 9 is = 0.6523540489642184\n",
      "relevant document located at 14 is = 0.6568738229755179\n",
      "relevant document located at 19 is = 0.6613935969868173\n"
     ]
    }
   ],
   "source": [
    "print(\"Accuracies for qa task with number of documents = 20 and -\")\n",
    "for i in range(len(input_paths)):\n",
    "    print(\"relevant document located at\", loc[i], \"is =\", evaluate_qa_responses(input_paths[i]))"
   ]
  },
  {
   "cell_type": "code",
   "execution_count": 30,
   "id": "c4750429",
   "metadata": {},
   "outputs": [],
   "source": [
    "input_paths = [\"./responses/mistral_qa/mist_7b_sdpa_20_doc_at_0_QAC_responses.jsonl\",\n",
    "               \"./responses/mistral_qa/mist_7b_sdpa_20_doc_at_4_QAC_responses.jsonl\",\n",
    "               \"./responses/mistral_qa/mist_7b_sdpa_20_doc_at_9_QAC_responses.jsonl\",\n",
    "               \"./responses/mistral_qa/mist_7b_sdpa_20_doc_at_14_QAC_responses.jsonl\",\n",
    "               \"./responses/mistral_qa/mist_7b_sdpa_20_doc_at_19_QAC_responses.jsonl\"]\n",
    "\n",
    "loc = [0, 4, 9, 14, 19]"
   ]
  },
  {
   "cell_type": "code",
   "execution_count": 31,
   "id": "86260875",
   "metadata": {},
   "outputs": [
    {
     "name": "stdout",
     "output_type": "stream",
     "text": [
      "Accuracies for qa task (QAC) with number of documents = 20 and -\n",
      "relevant document located at 0 is = 0.7404896421845575\n",
      "relevant document located at 4 is = 0.631638418079096\n",
      "relevant document located at 9 is = 0.6180790960451977\n",
      "relevant document located at 14 is = 0.623352165725047\n",
      "relevant document located at 19 is = 0.6135593220338983\n"
     ]
    }
   ],
   "source": [
    "print(\"Accuracies for qa task (QAC) with number of documents = 20 and -\")\n",
    "for i in range(len(input_paths)):\n",
    "    print(\"relevant document located at\", loc[i], \"is =\", evaluate_qa_responses(input_paths[i]))"
   ]
  },
  {
   "cell_type": "code",
   "execution_count": 32,
   "id": "4c25efed",
   "metadata": {},
   "outputs": [],
   "source": [
    "input_paths = [\"./responses/mistral_qa/mist_7b_base_sdpa_20_doc_at_0_responses.jsonl\",\n",
    "               \"./responses/mistral_qa/mist_7b_base_sdpa_20_doc_at_4_responses.jsonl\",\n",
    "               \"./responses/mistral_qa/mist_7b_base_sdpa_20_doc_at_9_responses.jsonl\",\n",
    "               \"./responses/mistral_qa/mist_7b_base_sdpa_20_doc_at_14_responses.jsonl\",\n",
    "               \"./responses/mistral_qa/mist_7b_base_sdpa_20_doc_at_19_responses.jsonl\"]\n",
    "\n",
    "loc = [0, 4, 9, 14, 19]"
   ]
  },
  {
   "cell_type": "code",
   "execution_count": 33,
   "id": "21085a9b",
   "metadata": {},
   "outputs": [
    {
     "name": "stdout",
     "output_type": "stream",
     "text": [
      "Accuracies for qa task (base model) with number of documents = 20 and -\n",
      "relevant document located at 0 is = 0.6293785310734463\n",
      "relevant document located at 4 is = 0.3559322033898305\n",
      "relevant document located at 9 is = 0.33634651600753296\n",
      "relevant document located at 14 is = 0.33973634651600754\n",
      "relevant document located at 19 is = 0.43954802259887005\n"
     ]
    }
   ],
   "source": [
    "print(\"Accuracies for qa task (base model) with number of documents = 20 and -\")\n",
    "for i in range(len(input_paths)):\n",
    "    print(\"relevant document located at\", loc[i], \"is =\", evaluate_qa_responses(input_paths[i]))"
   ]
  },
  {
   "cell_type": "code",
   "execution_count": 34,
   "id": "6e430f25",
   "metadata": {},
   "outputs": [],
   "source": [
    "input_paths = [\"./responses/mistral_qa/mist_7b_sdpa_30_doc_at_0_responses.jsonl\",\n",
    "               \"./responses/mistral_qa/mist_7b_sdpa_30_doc_at_4_responses.jsonl\",\n",
    "               \"./responses/mistral_qa/mist_7b_sdpa_30_doc_at_9_responses.jsonl\",\n",
    "               \"./responses/mistral_qa/mist_7b_sdpa_30_doc_at_14_responses.jsonl\",\n",
    "               \"./responses/mistral_qa/mist_7b_sdpa_30_doc_at_19_responses.jsonl\",\n",
    "               \"./responses/mistral_qa/mist_7b_sdpa_30_doc_at_24_responses.jsonl\",\n",
    "               \"./responses/mistral_qa/mist_7b_sdpa_30_doc_at_29_responses.jsonl\",]\n",
    "\n",
    "loc = [0, 4, 9, 14, 19, 24, 29]"
   ]
  },
  {
   "cell_type": "code",
   "execution_count": 35,
   "id": "3b136f46",
   "metadata": {},
   "outputs": [
    {
     "name": "stdout",
     "output_type": "stream",
     "text": [
      "Accuracies for qa task with number of documents = 30 and -\n",
      "relevant document located at 0 is = 0.6218455743879473\n",
      "relevant document located at 4 is = 0.6015065913370998\n",
      "relevant document located at 9 is = 0.6222222222222222\n",
      "relevant document located at 14 is = 0.6418079096045197\n",
      "relevant document located at 19 is = 0.6308851224105462\n",
      "relevant document located at 24 is = 0.6425612052730697\n",
      "relevant document located at 29 is = 0.6629001883239172\n"
     ]
    }
   ],
   "source": [
    "print(\"Accuracies for qa task with number of documents = 30 and -\")\n",
    "for i in range(len(input_paths)):\n",
    "    print(\"relevant document located at\", loc[i], \"is =\", evaluate_qa_responses(input_paths[i]))"
   ]
  },
  {
   "cell_type": "code",
   "execution_count": 36,
   "id": "fc0b546a",
   "metadata": {},
   "outputs": [],
   "source": [
    "input_paths = [\"./responses/mistral_qa/mist_7b_sdpa_30_doc_at_0_QAC_responses.jsonl\",\n",
    "               \"./responses/mistral_qa/mist_7b_sdpa_30_doc_at_4_QAC_responses.jsonl\",\n",
    "               \"./responses/mistral_qa/mist_7b_sdpa_30_doc_at_9_QAC_responses.jsonl\",\n",
    "               \"./responses/mistral_qa/mist_7b_sdpa_30_doc_at_14_QAC_responses.jsonl\",\n",
    "               \"./responses/mistral_qa/mist_7b_sdpa_30_doc_at_19_QAC_responses.jsonl\",\n",
    "               \"./responses/mistral_qa/mist_7b_sdpa_30_doc_at_24_QAC_responses.jsonl\",\n",
    "               \"./responses/mistral_qa/mist_7b_sdpa_30_doc_at_29_QAC_responses.jsonl\",]\n",
    "\n",
    "loc = [0, 4, 9, 14, 19, 24, 29]"
   ]
  },
  {
   "cell_type": "code",
   "execution_count": 37,
   "id": "ccddd0fa",
   "metadata": {},
   "outputs": [
    {
     "name": "stdout",
     "output_type": "stream",
     "text": [
      "Accuracies for qa task (QAC) with number of documents = 30 and -\n",
      "relevant document located at 0 is = 0.7050847457627119\n",
      "relevant document located at 4 is = 0.5992467043314501\n",
      "relevant document located at 9 is = 0.5992467043314501\n",
      "relevant document located at 14 is = 0.6169491525423729\n",
      "relevant document located at 19 is = 0.6064030131826742\n",
      "relevant document located at 24 is = 0.6180790960451977\n",
      "relevant document located at 29 is = 0.6271186440677966\n"
     ]
    }
   ],
   "source": [
    "print(\"Accuracies for qa task (QAC) with number of documents = 30 and -\")\n",
    "for i in range(len(input_paths)):\n",
    "    print(\"relevant document located at\", loc[i], \"is =\", evaluate_qa_responses(input_paths[i]))"
   ]
  }
 ],
 "metadata": {
  "kernelspec": {
   "display_name": "Python 3 (ipykernel)",
   "language": "python",
   "name": "python3"
  },
  "language_info": {
   "codemirror_mode": {
    "name": "ipython",
    "version": 3
   },
   "file_extension": ".py",
   "mimetype": "text/x-python",
   "name": "python",
   "nbconvert_exporter": "python",
   "pygments_lexer": "ipython3",
   "version": "3.11.5"
  }
 },
 "nbformat": 4,
 "nbformat_minor": 5
}
