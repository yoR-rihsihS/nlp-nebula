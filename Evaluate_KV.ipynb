{
 "cells": [
  {
   "cell_type": "code",
   "execution_count": 2,
   "id": "1ef45bd0",
   "metadata": {},
   "outputs": [],
   "source": [
    "import json\n",
    "from tqdm import tqdm"
   ]
  },
  {
   "cell_type": "code",
   "execution_count": 5,
   "id": "5757e71e",
   "metadata": {},
   "outputs": [],
   "source": [
    "def evaluate_kv_responses(inp : str):\n",
    "    correct_count, total_count = 0, 0\n",
    "    with open(inp) as fin:\n",
    "        for line in fin:\n",
    "            input_res = json.loads(line)\n",
    "            \n",
    "            total_count += 1\n",
    "            model = input_res[\"model_answer\"].lower().replace(\"\\\"\", \"\")\n",
    "            correct = input_res[\"correct_answer\"].lower()\n",
    "            \n",
    "            if correct in model:\n",
    "                correct_count += 1\n",
    "#             else:\n",
    "#                 print(input_res[\"model_prompt\"])\n",
    "#                 print(\"Answer =\", model, \"\\nCorrect =\", correct)\n",
    "#                 print(\"=\"*100)\n",
    "            \n",
    "    return correct_count / total_count"
   ]
  },
  {
   "cell_type": "code",
   "execution_count": null,
   "id": "5afc0202",
   "metadata": {},
   "outputs": [],
   "source": []
  },
  {
   "cell_type": "code",
   "execution_count": 3,
   "id": "90aea41d",
   "metadata": {},
   "outputs": [],
   "source": [
    "input_paths = [\n",
    "    \"./responses/gemini_kv/gemini_kv_75_key_at_0_responses.jsonl\",\n",
    "    \"./responses/gemini_kv/gemini_kv_75_key_at_24_responses.jsonl\",\n",
    "    \"./responses/gemini_kv/gemini_kv_75_key_at_49_responses.jsonl\",\n",
    "    \"./responses/gemini_kv/gemini_kv_75_key_at_74_responses.jsonl\"]\n",
    "\n",
    "loc = [0, 24, 49, 74]"
   ]
  },
  {
   "cell_type": "code",
   "execution_count": 4,
   "id": "c2ce339f",
   "metadata": {},
   "outputs": [
    {
     "name": "stdout",
     "output_type": "stream",
     "text": [
      "Accuracies for kv task with number of keys = 75 and -\n",
      "key located at 0 is = 1.0\n",
      "key located at 24 is = 0.998\n",
      "key located at 49 is = 1.0\n",
      "key located at 74 is = 1.0\n"
     ]
    }
   ],
   "source": [
    "print(\"Accuracies for kv task with number of keys = 75 and -\")\n",
    "for i in range(len(input_paths)):\n",
    "    print(\"key located at\", loc[i], \"is =\", evaluate_kv_responses(input_paths[i]))"
   ]
  },
  {
   "cell_type": "code",
   "execution_count": 5,
   "id": "0660abad",
   "metadata": {},
   "outputs": [],
   "source": [
    "input_paths = [\n",
    "    \"./responses/gemini_kv/gemini_kv_QAC_75_key_at_0_responses.jsonl\",\n",
    "    \"./responses/gemini_kv/gemini_kv_QAC_75_key_at_24_responses.jsonl\",\n",
    "    \"./responses/gemini_kv/gemini_kv_QAC_75_key_at_49_responses.jsonl\",\n",
    "    \"./responses/gemini_kv/gemini_kv_QAC_75_key_at_74_responses.jsonl\"]\n",
    "\n",
    "loc = loc = [0, 24, 49, 74]"
   ]
  },
  {
   "cell_type": "code",
   "execution_count": 6,
   "id": "1083686a",
   "metadata": {},
   "outputs": [
    {
     "name": "stdout",
     "output_type": "stream",
     "text": [
      "Accuracies for kv task (QAC) with number of keys = 75 and -\n",
      "key located at 0 is = 1.0\n",
      "key located at 24 is = 1.0\n",
      "key located at 49 is = 1.0\n",
      "key located at 74 is = 1.0\n"
     ]
    }
   ],
   "source": [
    "print(\"Accuracies for kv task (QAC) with number of keys = 75 and -\")\n",
    "for i in range(len(input_paths)):\n",
    "    print(\"key located at\", loc[i], \"is =\", evaluate_kv_responses(input_paths[i]))"
   ]
  },
  {
   "cell_type": "code",
   "execution_count": 7,
   "id": "b9eccfea",
   "metadata": {},
   "outputs": [],
   "source": [
    "input_paths = [\n",
    "    \"./responses/gemini_kv/gemini_kv_140_key_at_0_responses.jsonl\",\n",
    "    \"./responses/gemini_kv/gemini_kv_140_key_at_34_responses.jsonl\",\n",
    "    \"./responses/gemini_kv/gemini_kv_140_key_at_69_responses.jsonl\",\n",
    "    \"./responses/gemini_kv/gemini_kv_140_key_at_104_responses.jsonl\",\n",
    "    \"./responses/gemini_kv/gemini_kv_140_key_at_139_responses.jsonl\"]\n",
    "\n",
    "loc = [0, 34, 69, 104, 169]"
   ]
  },
  {
   "cell_type": "code",
   "execution_count": 8,
   "id": "5d231012",
   "metadata": {},
   "outputs": [
    {
     "name": "stdout",
     "output_type": "stream",
     "text": [
      "Accuracies for kv task with number of keys = 140 and -\n",
      "key located at 0 is = 1.0\n",
      "key located at 34 is = 0.994\n",
      "key located at 69 is = 1.0\n",
      "key located at 104 is = 1.0\n",
      "key located at 169 is = 1.0\n"
     ]
    }
   ],
   "source": [
    "print(\"Accuracies for kv task with number of keys = 140 and -\")\n",
    "for i in range(len(input_paths)):\n",
    "    print(\"key located at\", loc[i], \"is =\", evaluate_kv_responses(input_paths[i]))"
   ]
  },
  {
   "cell_type": "code",
   "execution_count": 9,
   "id": "97483da7",
   "metadata": {},
   "outputs": [],
   "source": [
    "input_paths = [\n",
    "    \"./responses/gemini_kv/gemini_kv_QAC_140_key_at_0_responses.jsonl\",\n",
    "    \"./responses/gemini_kv/gemini_kv_QAC_140_key_at_34_responses.jsonl\",\n",
    "    \"./responses/gemini_kv/gemini_kv_QAC_140_key_at_69_responses.jsonl\",\n",
    "    \"./responses/gemini_kv/gemini_kv_QAC_140_key_at_104_responses.jsonl\",\n",
    "    \"./responses/gemini_kv/gemini_kv_QAC_140_key_at_139_responses.jsonl\"]\n",
    "\n",
    "loc = [0, 34, 69, 104, 169]"
   ]
  },
  {
   "cell_type": "code",
   "execution_count": 10,
   "id": "2ebb405d",
   "metadata": {},
   "outputs": [
    {
     "name": "stdout",
     "output_type": "stream",
     "text": [
      "Accuracies for kv task (QAC) with number of keys = 140 and -\n",
      "key located at 0 is = 0.998\n",
      "key located at 34 is = 1.0\n",
      "key located at 69 is = 1.0\n",
      "key located at 104 is = 1.0\n",
      "key located at 169 is = 1.0\n"
     ]
    }
   ],
   "source": [
    "print(\"Accuracies for kv task (QAC) with number of keys = 140 and -\")\n",
    "for i in range(len(input_paths)):\n",
    "    print(\"key located at\", loc[i], \"is =\", evaluate_kv_responses(input_paths[i]))"
   ]
  },
  {
   "cell_type": "code",
   "execution_count": 11,
   "id": "f16c2260",
   "metadata": {},
   "outputs": [],
   "source": [
    "input_paths = [\n",
    "    \"./responses/gemini_kv/gemini_kv_300_key_at_0_responses.jsonl\",\n",
    "    \"./responses/gemini_kv/gemini_kv_300_key_at_49_responses.jsonl\",\n",
    "    \"./responses/gemini_kv/gemini_kv_300_key_at_99_responses.jsonl\",\n",
    "    \"./responses/gemini_kv/gemini_kv_300_key_at_149_responses.jsonl\",\n",
    "    \"./responses/gemini_kv/gemini_kv_300_key_at_199_responses.jsonl\",\n",
    "    \"./responses/gemini_kv/gemini_kv_300_key_at_249_responses.jsonl\",\n",
    "    \"./responses/gemini_kv/gemini_kv_300_key_at_299_responses.jsonl\",]\n",
    "\n",
    "loc = [0, 49, 99, 149, 199, 249, 299]"
   ]
  },
  {
   "cell_type": "code",
   "execution_count": 12,
   "id": "558237c0",
   "metadata": {},
   "outputs": [
    {
     "name": "stdout",
     "output_type": "stream",
     "text": [
      "Accuracies for kv task with number of keys = 300 and -\n",
      "key located at 0 is = 0.954\n",
      "key located at 49 is = 0.9\n",
      "key located at 99 is = 0.956\n",
      "key located at 149 is = 0.87\n",
      "key located at 199 is = 0.982\n",
      "key located at 249 is = 0.986\n",
      "key located at 299 is = 1.0\n"
     ]
    }
   ],
   "source": [
    "print(\"Accuracies for kv task with number of keys = 300 and -\")\n",
    "for i in range(len(input_paths)):\n",
    "    print(\"key located at\", loc[i], \"is =\", evaluate_kv_responses(input_paths[i]))"
   ]
  },
  {
   "cell_type": "code",
   "execution_count": 13,
   "id": "5710d929",
   "metadata": {},
   "outputs": [],
   "source": [
    "input_paths = [\n",
    "    \"./responses/gemini_kv/gemini_kv_QAC_300_key_at_0_responses.jsonl\",\n",
    "    \"./responses/gemini_kv/gemini_kv_QAC_300_key_at_49_responses.jsonl\",\n",
    "    \"./responses/gemini_kv/gemini_kv_QAC_300_key_at_99_responses.jsonl\",\n",
    "    \"./responses/gemini_kv/gemini_kv_QAC_300_key_at_149_responses.jsonl\",\n",
    "    \"./responses/gemini_kv/gemini_kv_QAC_300_key_at_199_responses.jsonl\",\n",
    "    \"./responses/gemini_kv/gemini_kv_QAC_300_key_at_249_responses.jsonl\",\n",
    "    \"./responses/gemini_kv/gemini_kv_QAC_300_key_at_299_responses.jsonl\",]\n",
    "\n",
    "loc = [0, 49, 99, 149, 199, 249, 299]"
   ]
  },
  {
   "cell_type": "code",
   "execution_count": 14,
   "id": "ba40c27a",
   "metadata": {},
   "outputs": [
    {
     "name": "stdout",
     "output_type": "stream",
     "text": [
      "Accuracies for kv task (QAC) with number of keys = 300 and -\n",
      "key located at 0 is = 0.972\n",
      "key located at 49 is = 1.0\n",
      "key located at 99 is = 1.0\n",
      "key located at 149 is = 1.0\n",
      "key located at 199 is = 1.0\n",
      "key located at 249 is = 0.998\n",
      "key located at 299 is = 1.0\n"
     ]
    }
   ],
   "source": [
    "print(\"Accuracies for kv task (QAC) with number of keys = 300 and -\")\n",
    "for i in range(len(input_paths)):\n",
    "    print(\"key located at\", loc[i], \"is =\", evaluate_kv_responses(input_paths[i]))"
   ]
  },
  {
   "cell_type": "code",
   "execution_count": null,
   "id": "422ef054",
   "metadata": {},
   "outputs": [],
   "source": []
  },
  {
   "cell_type": "code",
   "execution_count": 1,
   "id": "49d60299",
   "metadata": {},
   "outputs": [],
   "source": [
    "def evaluate_kv_responses(inp : str):\n",
    "    correct_count, total_count = 0, 0\n",
    "    with open(inp) as fin:\n",
    "        for line in fin:\n",
    "            input_res = json.loads(line)\n",
    "            \n",
    "            total_count += 1\n",
    "            answer_index  = input_res[\"model_answer\"].find(\"Corresponding value:\")\n",
    "            model = input_res[\"model_answer\"][answer_index + len(\"Corresponding value:\"):].strip().lower().replace(\"\\\"\", \"\")\n",
    "            correct = input_res[\"correct_answer\"].lower()\n",
    "            \n",
    "            if correct in model:\n",
    "                correct_count += 1\n",
    "#             else:\n",
    "#                 print(input_res[\"model_prompt\"])\n",
    "#                 print(\"Answer =\", model, \"\\nCorrect =\", correct)\n",
    "#                 print(\"=\"*100)\n",
    "            \n",
    "    return correct_count / total_count"
   ]
  },
  {
   "cell_type": "code",
   "execution_count": null,
   "id": "3e66a750",
   "metadata": {},
   "outputs": [],
   "source": []
  },
  {
   "cell_type": "code",
   "execution_count": 3,
   "id": "65e204ac",
   "metadata": {},
   "outputs": [],
   "source": [
    "input_paths = [\n",
    "    \"./responses/mist_kv/mist_7b_sdpa_kv_75_key_at_0_responses.jsonl\",\n",
    "    \"./responses/mist_kv/mist_7b_sdpa_kv_75_key_at_24_responses.jsonl\",\n",
    "    \"./responses/mist_kv/mist_7b_sdpa_kv_75_key_at_49_responses.jsonl\",\n",
    "    \"./responses/mist_kv/mist_7b_sdpa_kv_75_key_at_74_responses.jsonl\"]\n",
    "\n",
    "loc = [0, 24, 49, 74]"
   ]
  },
  {
   "cell_type": "code",
   "execution_count": 4,
   "id": "6be5f533",
   "metadata": {},
   "outputs": [
    {
     "name": "stdout",
     "output_type": "stream",
     "text": [
      "Accuracies for kv task with number of keys = 75 and -\n",
      "key located at 0 is = 0.996\n",
      "key located at 24 is = 0.98\n",
      "key located at 49 is = 0.982\n",
      "key located at 74 is = 0.96\n"
     ]
    }
   ],
   "source": [
    "print(\"Accuracies for kv task with number of keys = 75 and -\")\n",
    "for i in range(len(input_paths)):\n",
    "    print(\"key located at\", loc[i], \"is =\", evaluate_kv_responses(input_paths[i]))"
   ]
  },
  {
   "cell_type": "code",
   "execution_count": 7,
   "id": "d3ff9d79",
   "metadata": {},
   "outputs": [],
   "source": [
    "input_paths = [\n",
    "    \"./responses/mist_kv/mist_7b_sdpa_kv_QAC_75_key_at_0_responses.jsonl\",\n",
    "    \"./responses/mist_kv/mist_7b_sdpa_kv_QAC_75_key_at_24_responses.jsonl\",\n",
    "    \"./responses/mist_kv/mist_7b_sdpa_kv_QAC_75_key_at_49_responses.jsonl\",\n",
    "    \"./responses/mist_kv/mist_7b_sdpa_kv_QAC_75_key_at_74_responses.jsonl\"]\n",
    "\n",
    "loc = [0, 24, 49, 74]"
   ]
  },
  {
   "cell_type": "code",
   "execution_count": 8,
   "id": "741fdf63",
   "metadata": {},
   "outputs": [
    {
     "name": "stdout",
     "output_type": "stream",
     "text": [
      "Accuracies for kv task (QAC) with number of keys = 75 and -\n",
      "key located at 0 is = 0.992\n",
      "key located at 24 is = 1.0\n",
      "key located at 49 is = 1.0\n",
      "key located at 74 is = 0.998\n"
     ]
    }
   ],
   "source": [
    "print(\"Accuracies for kv task (QAC) with number of keys = 75 and -\")\n",
    "for i in range(len(input_paths)):\n",
    "    print(\"key located at\", loc[i], \"is =\", evaluate_kv_responses(input_paths[i]))"
   ]
  },
  {
   "cell_type": "code",
   "execution_count": 11,
   "id": "2a659898",
   "metadata": {},
   "outputs": [],
   "source": [
    "input_paths = [\n",
    "    \"./responses/mist_kv/mist_7b_sdpa_kv_140_key_at_0_responses.jsonl\",\n",
    "    \"./responses/mist_kv/mist_7b_sdpa_kv_140_key_at_34_responses.jsonl\",\n",
    "    \"./responses/mist_kv/mist_7b_sdpa_kv_140_key_at_69_responses.jsonl\",\n",
    "    \"./responses/mist_kv/mist_7b_sdpa_kv_140_key_at_104_responses.jsonl\",\n",
    "    \"./responses/mist_kv/mist_7b_sdpa_kv_140_key_at_139_responses.jsonl\"]\n",
    "\n",
    "loc = [0, 34, 69, 104, 139]"
   ]
  },
  {
   "cell_type": "code",
   "execution_count": 12,
   "id": "870f2c62",
   "metadata": {},
   "outputs": [
    {
     "name": "stdout",
     "output_type": "stream",
     "text": [
      "Accuracies for kv task with number of keys = 140 and -\n",
      "key located at 0 is = 0.992\n",
      "key located at 34 is = 0.948\n",
      "key located at 69 is = 0.946\n",
      "key located at 104 is = 0.962\n",
      "key located at 139 is = 0.886\n"
     ]
    }
   ],
   "source": [
    "print(\"Accuracies for kv task with number of keys = 140 and -\")\n",
    "for i in range(len(input_paths)):\n",
    "    print(\"key located at\", loc[i], \"is =\", evaluate_kv_responses(input_paths[i]))"
   ]
  },
  {
   "cell_type": "code",
   "execution_count": 13,
   "id": "637b975d",
   "metadata": {},
   "outputs": [],
   "source": [
    "input_paths = [\n",
    "    \"./responses/mist_kv/mist_7b_sdpa_kv_QAC_140_key_at_0_responses.jsonl\",\n",
    "    \"./responses/mist_kv/mist_7b_sdpa_kv_QAC_140_key_at_34_responses.jsonl\",\n",
    "    \"./responses/mist_kv/mist_7b_sdpa_kv_QAC_140_key_at_69_responses.jsonl\",\n",
    "    \"./responses/mist_kv/mist_7b_sdpa_kv_QAC_140_key_at_104_responses.jsonl\",\n",
    "    \"./responses/mist_kv/mist_7b_sdpa_kv_QAC_140_key_at_139_responses.jsonl\"]\n",
    "\n",
    "loc = [0, 34, 69, 104, 139]"
   ]
  },
  {
   "cell_type": "code",
   "execution_count": 14,
   "id": "b7bb3f1e",
   "metadata": {},
   "outputs": [
    {
     "name": "stdout",
     "output_type": "stream",
     "text": [
      "Accuracies for kv task (QAC) with number of keys = 75 and -\n",
      "key located at 0 is = 0.988\n",
      "key located at 34 is = 1.0\n",
      "key located at 69 is = 1.0\n",
      "key located at 104 is = 1.0\n",
      "key located at 139 is = 0.926\n"
     ]
    }
   ],
   "source": [
    "print(\"Accuracies for kv task (QAC) with number of keys = 140 and -\")\n",
    "for i in range(len(input_paths)):\n",
    "    print(\"key located at\", loc[i], \"is =\", evaluate_kv_responses(input_paths[i]))"
   ]
  },
  {
   "cell_type": "code",
   "execution_count": 15,
   "id": "d0ba7042",
   "metadata": {},
   "outputs": [],
   "source": [
    "input_paths = [\n",
    "    \"./responses/mist_kv/mist_7b_sdpa_kv_300_key_at_0_responses.jsonl\",\n",
    "    \"./responses/mist_kv/mist_7b_sdpa_kv_300_key_at_49_responses.jsonl\",\n",
    "    \"./responses/mist_kv/mist_7b_sdpa_kv_300_key_at_99_responses.jsonl\",\n",
    "    \"./responses/mist_kv/mist_7b_sdpa_kv_300_key_at_149_responses.jsonl\",\n",
    "    \"./responses/mist_kv/mist_7b_sdpa_kv_300_key_at_199_responses.jsonl\",\n",
    "    \"./responses/mist_kv/mist_7b_sdpa_kv_300_key_at_249_responses.jsonl\",\n",
    "    \"./responses/mist_kv/mist_7b_sdpa_kv_300_key_at_299_responses.jsonl\",]\n",
    "\n",
    "loc = [0, 49, 99, 149, 199, 249, 299]"
   ]
  },
  {
   "cell_type": "code",
   "execution_count": 16,
   "id": "30709901",
   "metadata": {},
   "outputs": [
    {
     "name": "stdout",
     "output_type": "stream",
     "text": [
      "Accuracies for kv task with number of keys = 75 and -\n",
      "key located at 0 is = 0.996\n",
      "key located at 49 is = 0.854\n",
      "key located at 99 is = 0.848\n",
      "key located at 149 is = 0.832\n",
      "key located at 199 is = 0.768\n",
      "key located at 249 is = 0.904\n",
      "key located at 299 is = 0.734\n"
     ]
    }
   ],
   "source": [
    "print(\"Accuracies for kv task with number of keys = 75 and -\")\n",
    "for i in range(len(input_paths)):\n",
    "    print(\"key located at\", loc[i], \"is =\", evaluate_kv_responses(input_paths[i]))"
   ]
  },
  {
   "cell_type": "code",
   "execution_count": 17,
   "id": "5f53adb3",
   "metadata": {},
   "outputs": [],
   "source": [
    "input_paths = [\n",
    "    \"./responses/mist_kv/mist_7b_sdpa_kv_QAC_300_key_at_0_responses.jsonl\",\n",
    "    \"./responses/mist_kv/mist_7b_sdpa_kv_QAC_300_key_at_49_responses.jsonl\",\n",
    "    \"./responses/mist_kv/mist_7b_sdpa_kv_QAC_300_key_at_99_responses.jsonl\",\n",
    "    \"./responses/mist_kv/mist_7b_sdpa_kv_QAC_300_key_at_149_responses.jsonl\",\n",
    "    \"./responses/mist_kv/mist_7b_sdpa_kv_QAC_300_key_at_199_responses.jsonl\",\n",
    "    \"./responses/mist_kv/mist_7b_sdpa_kv_QAC_300_key_at_249_responses.jsonl\",\n",
    "    \"./responses/mist_kv/mist_7b_sdpa_kv_QAC_300_key_at_299_responses.jsonl\",]\n",
    "\n",
    "loc = [0, 49, 99, 149, 199, 249, 299]"
   ]
  },
  {
   "cell_type": "code",
   "execution_count": 18,
   "id": "a6791a04",
   "metadata": {},
   "outputs": [
    {
     "name": "stdout",
     "output_type": "stream",
     "text": [
      "Accuracies for kv task (QAC) with number of keys = 300 and -\n",
      "key located at 0 is = 0.976\n",
      "key located at 49 is = 0.998\n",
      "key located at 99 is = 0.998\n",
      "key located at 149 is = 0.998\n",
      "key located at 199 is = 0.994\n",
      "key located at 249 is = 0.998\n",
      "key located at 299 is = 0.262\n"
     ]
    }
   ],
   "source": [
    "print(\"Accuracies for kv task (QAC) with number of keys = 300 and -\")\n",
    "for i in range(len(input_paths)):\n",
    "    print(\"key located at\", loc[i], \"is =\", evaluate_kv_responses(input_paths[i]))"
   ]
  }
 ],
 "metadata": {
  "kernelspec": {
   "display_name": "Python 3 (ipykernel)",
   "language": "python",
   "name": "python3"
  },
  "language_info": {
   "codemirror_mode": {
    "name": "ipython",
    "version": 3
   },
   "file_extension": ".py",
   "mimetype": "text/x-python",
   "name": "python",
   "nbconvert_exporter": "python",
   "pygments_lexer": "ipython3",
   "version": "3.11.5"
  }
 },
 "nbformat": 4,
 "nbformat_minor": 5
}
